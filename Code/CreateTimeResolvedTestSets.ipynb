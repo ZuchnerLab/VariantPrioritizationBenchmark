{
 "cells": [
  {
   "cell_type": "markdown",
   "metadata": {},
   "source": [
    "# Create OMIM inheritance map"
   ]
  },
  {
   "cell_type": "code",
   "execution_count": 1,
   "metadata": {},
   "outputs": [
    {
     "data": {
      "text/html": [
       "<div>\n",
       "<style scoped>\n",
       "    .dataframe tbody tr th:only-of-type {\n",
       "        vertical-align: middle;\n",
       "    }\n",
       "\n",
       "    .dataframe tbody tr th {\n",
       "        vertical-align: top;\n",
       "    }\n",
       "\n",
       "    .dataframe thead th {\n",
       "        text-align: right;\n",
       "    }\n",
       "</style>\n",
       "<table border=\"1\" class=\"dataframe\">\n",
       "  <thead>\n",
       "    <tr style=\"text-align: right;\">\n",
       "      <th></th>\n",
       "      <th>MIM Number</th>\n",
       "      <th>Approved Gene Symbol</th>\n",
       "      <th>Ensembl Gene ID</th>\n",
       "      <th>Phenotypes</th>\n",
       "    </tr>\n",
       "  </thead>\n",
       "  <tbody>\n",
       "    <tr>\n",
       "      <th>24</th>\n",
       "      <td>147571</td>\n",
       "      <td>ISG15</td>\n",
       "      <td>ENSG00000187608</td>\n",
       "      <td>Immunodeficiency 38, 616126 (3), Autosomal rec...</td>\n",
       "    </tr>\n",
       "    <tr>\n",
       "      <th>25</th>\n",
       "      <td>103320</td>\n",
       "      <td>AGRN</td>\n",
       "      <td>ENSG00000188157</td>\n",
       "      <td>Myasthenic syndrome, congenital, 8, with pre- ...</td>\n",
       "    </tr>\n",
       "    <tr>\n",
       "      <th>30</th>\n",
       "      <td>600315</td>\n",
       "      <td>TNFRSF4</td>\n",
       "      <td>ENSG00000186827</td>\n",
       "      <td>?Immunodeficiency 16, 615593 (3), Autosomal re...</td>\n",
       "    </tr>\n",
       "    <tr>\n",
       "      <th>32</th>\n",
       "      <td>615291</td>\n",
       "      <td>B3GALT6</td>\n",
       "      <td>ENSG00000176022</td>\n",
       "      <td>Ehlers-Danlos syndrome, spondylodysplastic typ...</td>\n",
       "    </tr>\n",
       "    <tr>\n",
       "      <th>36</th>\n",
       "      <td>611354</td>\n",
       "      <td>INTS11</td>\n",
       "      <td>ENSG00000127054</td>\n",
       "      <td>Neurodevelopmental disorder with motor and lan...</td>\n",
       "    </tr>\n",
       "    <tr>\n",
       "      <th>...</th>\n",
       "      <td>...</td>\n",
       "      <td>...</td>\n",
       "      <td>...</td>\n",
       "      <td>...</td>\n",
       "    </tr>\n",
       "    <tr>\n",
       "      <th>18223</th>\n",
       "      <td>300777</td>\n",
       "      <td>TMLHE</td>\n",
       "      <td>ENSG00000185973</td>\n",
       "      <td>{Autism, susceptibility to, X-linked 6}, 30087...</td>\n",
       "    </tr>\n",
       "    <tr>\n",
       "      <th>18236</th>\n",
       "      <td>400020</td>\n",
       "      <td>SHOX</td>\n",
       "      <td>ENSG00000185960</td>\n",
       "      <td>Short stature, idiopathic familial, 300582 (3)...</td>\n",
       "    </tr>\n",
       "    <tr>\n",
       "      <th>18245</th>\n",
       "      <td>480000</td>\n",
       "      <td>SRY</td>\n",
       "      <td>ENSG00000184895</td>\n",
       "      <td>46XY sex reversal 1, 400044 (3), Y-linked; 46X...</td>\n",
       "    </tr>\n",
       "    <tr>\n",
       "      <th>18251</th>\n",
       "      <td>400033</td>\n",
       "      <td>TBL1Y</td>\n",
       "      <td>ENSG00000092377</td>\n",
       "      <td>?Deafness, Y-linked 2, 400047 (3), Y-linked</td>\n",
       "    </tr>\n",
       "    <tr>\n",
       "      <th>18256</th>\n",
       "      <td>400005</td>\n",
       "      <td>USP9Y</td>\n",
       "      <td>ENSG00000114374</td>\n",
       "      <td>Spermatogenic failure, Y-linked, 2, 415000 (3)...</td>\n",
       "    </tr>\n",
       "  </tbody>\n",
       "</table>\n",
       "<p>4885 rows × 4 columns</p>\n",
       "</div>"
      ],
      "text/plain": [
       "       MIM Number Approved Gene Symbol  Ensembl Gene ID  \\\n",
       "24         147571                ISG15  ENSG00000187608   \n",
       "25         103320                 AGRN  ENSG00000188157   \n",
       "30         600315              TNFRSF4  ENSG00000186827   \n",
       "32         615291              B3GALT6  ENSG00000176022   \n",
       "36         611354               INTS11  ENSG00000127054   \n",
       "...           ...                  ...              ...   \n",
       "18223      300777                TMLHE  ENSG00000185973   \n",
       "18236      400020                 SHOX  ENSG00000185960   \n",
       "18245      480000                  SRY  ENSG00000184895   \n",
       "18251      400033                TBL1Y  ENSG00000092377   \n",
       "18256      400005                USP9Y  ENSG00000114374   \n",
       "\n",
       "                                              Phenotypes  \n",
       "24     Immunodeficiency 38, 616126 (3), Autosomal rec...  \n",
       "25     Myasthenic syndrome, congenital, 8, with pre- ...  \n",
       "30     ?Immunodeficiency 16, 615593 (3), Autosomal re...  \n",
       "32     Ehlers-Danlos syndrome, spondylodysplastic typ...  \n",
       "36     Neurodevelopmental disorder with motor and lan...  \n",
       "...                                                  ...  \n",
       "18223  {Autism, susceptibility to, X-linked 6}, 30087...  \n",
       "18236  Short stature, idiopathic familial, 300582 (3)...  \n",
       "18245  46XY sex reversal 1, 400044 (3), Y-linked; 46X...  \n",
       "18251        ?Deafness, Y-linked 2, 400047 (3), Y-linked  \n",
       "18256  Spermatogenic failure, Y-linked, 2, 415000 (3)...  \n",
       "\n",
       "[4885 rows x 4 columns]"
      ]
     },
     "execution_count": 1,
     "metadata": {},
     "output_type": "execute_result"
    }
   ],
   "source": [
    "# You will need to apply for access to OMIM's data downloads in order to replicate this process\n",
    "# Download the gememap2.txt file from OMIM's registered data downloads\n",
    "import pandas\n",
    "genemap=pandas.read_csv('OMIM/genemap2.txt',sep='\\t',low_memory=False,comment='#')\n",
    "genemap=genemap.loc[:,['MIM Number','Approved Gene Symbol','Ensembl Gene ID','Phenotypes']]\n",
    "genemap=genemap.loc[~genemap['Approved Gene Symbol'].isna(),:]\n",
    "genemap=genemap.loc[~genemap['Phenotypes'].isna(),:]\n",
    "genemap"
   ]
  },
  {
   "cell_type": "code",
   "execution_count": 2,
   "metadata": {},
   "outputs": [
    {
     "data": {
      "text/plain": [
       "147571  0    Immunodeficiency 38, 616126 (3), Autosomal rec...\n",
       "103320  0    Myasthenic syndrome, congenital, 8, with pre- ...\n",
       "600315  0    ?Immunodeficiency 16, 615593 (3), Autosomal re...\n",
       "615291  0    Ehlers-Danlos syndrome, spondylodysplastic typ...\n",
       "        1    Spondyloepimetaphyseal dysplasia with joint la...\n",
       "                                   ...                        \n",
       "400020  2    Leri-Weill dyschondrosteosis, 127300 (3), Pseu...\n",
       "480000  0            46XY sex reversal 1, 400044 (3), Y-linked\n",
       "        1    46XX sex reversal 1, 400045 (4), X-linked domi...\n",
       "400033  0          ?Deafness, Y-linked 2, 400047 (3), Y-linked\n",
       "400005  0    Spermatogenic failure, Y-linked, 2, 415000 (3)...\n",
       "Length: 7471, dtype: object"
      ]
     },
     "execution_count": 2,
     "metadata": {},
     "output_type": "execute_result"
    }
   ],
   "source": [
    "mimToGene=genemap.loc[:,['MIM Number','Approved Gene Symbol']]\n",
    "phenotypes=pandas.DataFrame(genemap['Phenotypes'].str.split(';').tolist(), index=genemap['MIM Number'].values).stack().str.strip()\n",
    "phenotypes"
   ]
  },
  {
   "cell_type": "code",
   "execution_count": 3,
   "metadata": {},
   "outputs": [
    {
     "data": {
      "text/plain": [
       "147571  0    Immunodeficiency 38, 616126 (3), Autosomal rec...\n",
       "103320  0    Myasthenic syndrome, congenital, 8, with pre- ...\n",
       "615291  0    Ehlers-Danlos syndrome, spondylodysplastic typ...\n",
       "        1    Spondyloepimetaphyseal dysplasia with joint la...\n",
       "        2    Al-Gazali syndrome, 609465 (3), Autosomal rece...\n",
       "                                   ...                        \n",
       "400020  1    Langer mesomelic dysplasia, 249700 (3), Pseudo...\n",
       "        2    Leri-Weill dyschondrosteosis, 127300 (3), Pseu...\n",
       "480000  0            46XY sex reversal 1, 400044 (3), Y-linked\n",
       "        1    46XX sex reversal 1, 400045 (4), X-linked domi...\n",
       "400005  0    Spermatogenic failure, Y-linked, 2, 415000 (3)...\n",
       "Length: 5928, dtype: object"
      ]
     },
     "execution_count": 3,
     "metadata": {},
     "output_type": "execute_result"
    }
   ],
   "source": [
    "filter=((phenotypes.str[0]==\"?\") | (phenotypes.str[0]==\"[\") | (phenotypes.str[0]==\"{\"))\n",
    "phenotypes2=phenotypes.loc[~filter,:]\n",
    "phenotypes2\n",
    "filter2=phenotypes2.str.contains(\" [0-9]{6} \\(\")\n",
    "phenotypes2=phenotypes2.loc[filter2,:]\n",
    "phenotypes2"
   ]
  },
  {
   "cell_type": "code",
   "execution_count": 4,
   "metadata": {},
   "outputs": [],
   "source": [
    "locusMIMs=phenotypes2.index.get_level_values(0)\n",
    "phenotypeMIMs=phenotypes2.str.split(\"\\([0-9]\\)\").str[0].str.split(',').str[-1].str.strip()\n",
    "phenotypeInheritances=phenotypes2.str.split(\"\\([0-9]\\), \").str[1].str.strip()\n",
    "mappingMethod=phenotypes2.str.split(\" [0-9]{6} \\(\").str[1].str.split(')').str[0]"
   ]
  },
  {
   "cell_type": "code",
   "execution_count": 5,
   "metadata": {},
   "outputs": [
    {
     "data": {
      "text/html": [
       "<div>\n",
       "<style scoped>\n",
       "    .dataframe tbody tr th:only-of-type {\n",
       "        vertical-align: middle;\n",
       "    }\n",
       "\n",
       "    .dataframe tbody tr th {\n",
       "        vertical-align: top;\n",
       "    }\n",
       "\n",
       "    .dataframe thead th {\n",
       "        text-align: right;\n",
       "    }\n",
       "</style>\n",
       "<table border=\"1\" class=\"dataframe\">\n",
       "  <thead>\n",
       "    <tr style=\"text-align: right;\">\n",
       "      <th></th>\n",
       "      <th>geneMIM</th>\n",
       "      <th>phenoMIM</th>\n",
       "      <th>inheritance</th>\n",
       "      <th>mappingMethod</th>\n",
       "    </tr>\n",
       "  </thead>\n",
       "  <tbody>\n",
       "    <tr>\n",
       "      <th>0</th>\n",
       "      <td>147571</td>\n",
       "      <td>616126</td>\n",
       "      <td>Autosomal recessive</td>\n",
       "      <td>3</td>\n",
       "    </tr>\n",
       "    <tr>\n",
       "      <th>1</th>\n",
       "      <td>103320</td>\n",
       "      <td>615120</td>\n",
       "      <td>Autosomal recessive</td>\n",
       "      <td>3</td>\n",
       "    </tr>\n",
       "    <tr>\n",
       "      <th>2</th>\n",
       "      <td>615291</td>\n",
       "      <td>615349</td>\n",
       "      <td>Autosomal recessive</td>\n",
       "      <td>3</td>\n",
       "    </tr>\n",
       "    <tr>\n",
       "      <th>3</th>\n",
       "      <td>615291</td>\n",
       "      <td>271640</td>\n",
       "      <td>Autosomal recessive</td>\n",
       "      <td>3</td>\n",
       "    </tr>\n",
       "    <tr>\n",
       "      <th>4</th>\n",
       "      <td>615291</td>\n",
       "      <td>609465</td>\n",
       "      <td>Autosomal recessive</td>\n",
       "      <td>3</td>\n",
       "    </tr>\n",
       "    <tr>\n",
       "      <th>...</th>\n",
       "      <td>...</td>\n",
       "      <td>...</td>\n",
       "      <td>...</td>\n",
       "      <td>...</td>\n",
       "    </tr>\n",
       "    <tr>\n",
       "      <th>5923</th>\n",
       "      <td>400020</td>\n",
       "      <td>249700</td>\n",
       "      <td>Pseudoautosomal recessive</td>\n",
       "      <td>3</td>\n",
       "    </tr>\n",
       "    <tr>\n",
       "      <th>5924</th>\n",
       "      <td>400020</td>\n",
       "      <td>127300</td>\n",
       "      <td>Pseudoautosomal dominant</td>\n",
       "      <td>3</td>\n",
       "    </tr>\n",
       "    <tr>\n",
       "      <th>5925</th>\n",
       "      <td>480000</td>\n",
       "      <td>400044</td>\n",
       "      <td>Y-linked</td>\n",
       "      <td>3</td>\n",
       "    </tr>\n",
       "    <tr>\n",
       "      <th>5926</th>\n",
       "      <td>480000</td>\n",
       "      <td>400045</td>\n",
       "      <td>X-linked dominant</td>\n",
       "      <td>4</td>\n",
       "    </tr>\n",
       "    <tr>\n",
       "      <th>5927</th>\n",
       "      <td>400005</td>\n",
       "      <td>415000</td>\n",
       "      <td>Y-linked</td>\n",
       "      <td>3</td>\n",
       "    </tr>\n",
       "  </tbody>\n",
       "</table>\n",
       "<p>5928 rows × 4 columns</p>\n",
       "</div>"
      ],
      "text/plain": [
       "      geneMIM phenoMIM                inheritance mappingMethod\n",
       "0      147571   616126        Autosomal recessive             3\n",
       "1      103320   615120        Autosomal recessive             3\n",
       "2      615291   615349        Autosomal recessive             3\n",
       "3      615291   271640        Autosomal recessive             3\n",
       "4      615291   609465        Autosomal recessive             3\n",
       "...       ...      ...                        ...           ...\n",
       "5923   400020   249700  Pseudoautosomal recessive             3\n",
       "5924   400020   127300   Pseudoautosomal dominant             3\n",
       "5925   480000   400044                   Y-linked             3\n",
       "5926   480000   400045          X-linked dominant             4\n",
       "5927   400005   415000                   Y-linked             3\n",
       "\n",
       "[5928 rows x 4 columns]"
      ]
     },
     "execution_count": 5,
     "metadata": {},
     "output_type": "execute_result"
    }
   ],
   "source": [
    "newMap=pandas.DataFrame({'geneMIM':locusMIMs,'phenoMIM':phenotypeMIMs.values,'inheritance':phenotypeInheritances.values,'mappingMethod':mappingMethod.values})\n",
    "newMap"
   ]
  },
  {
   "cell_type": "code",
   "execution_count": 6,
   "metadata": {},
   "outputs": [],
   "source": [
    "newMap.to_csv('OMIM/geneToPhenoToInheritanceMap.txt',sep='\\t',index=False)"
   ]
  },
  {
   "cell_type": "code",
   "execution_count": 7,
   "metadata": {},
   "outputs": [
    {
     "data": {
      "text/html": [
       "<div>\n",
       "<style scoped>\n",
       "    .dataframe tbody tr th:only-of-type {\n",
       "        vertical-align: middle;\n",
       "    }\n",
       "\n",
       "    .dataframe tbody tr th {\n",
       "        vertical-align: top;\n",
       "    }\n",
       "\n",
       "    .dataframe thead th {\n",
       "        text-align: right;\n",
       "    }\n",
       "</style>\n",
       "<table border=\"1\" class=\"dataframe\">\n",
       "  <thead>\n",
       "    <tr style=\"text-align: right;\">\n",
       "      <th></th>\n",
       "      <th>geneMIM</th>\n",
       "      <th>phenoMIM</th>\n",
       "      <th>inheritance</th>\n",
       "      <th>mappingMethod</th>\n",
       "      <th>Approved Gene Symbol</th>\n",
       "    </tr>\n",
       "  </thead>\n",
       "  <tbody>\n",
       "    <tr>\n",
       "      <th>0</th>\n",
       "      <td>147571</td>\n",
       "      <td>616126</td>\n",
       "      <td>Autosomal recessive</td>\n",
       "      <td>3</td>\n",
       "      <td>ISG15</td>\n",
       "    </tr>\n",
       "    <tr>\n",
       "      <th>1</th>\n",
       "      <td>103320</td>\n",
       "      <td>615120</td>\n",
       "      <td>Autosomal recessive</td>\n",
       "      <td>3</td>\n",
       "      <td>AGRN</td>\n",
       "    </tr>\n",
       "    <tr>\n",
       "      <th>2</th>\n",
       "      <td>615291</td>\n",
       "      <td>615349</td>\n",
       "      <td>Autosomal recessive</td>\n",
       "      <td>3</td>\n",
       "      <td>B3GALT6</td>\n",
       "    </tr>\n",
       "    <tr>\n",
       "      <th>3</th>\n",
       "      <td>615291</td>\n",
       "      <td>271640</td>\n",
       "      <td>Autosomal recessive</td>\n",
       "      <td>3</td>\n",
       "      <td>B3GALT6</td>\n",
       "    </tr>\n",
       "    <tr>\n",
       "      <th>4</th>\n",
       "      <td>615291</td>\n",
       "      <td>609465</td>\n",
       "      <td>Autosomal recessive</td>\n",
       "      <td>3</td>\n",
       "      <td>B3GALT6</td>\n",
       "    </tr>\n",
       "    <tr>\n",
       "      <th>...</th>\n",
       "      <td>...</td>\n",
       "      <td>...</td>\n",
       "      <td>...</td>\n",
       "      <td>...</td>\n",
       "      <td>...</td>\n",
       "    </tr>\n",
       "    <tr>\n",
       "      <th>4939</th>\n",
       "      <td>604272</td>\n",
       "      <td>604377</td>\n",
       "      <td>Autosomal recessive</td>\n",
       "      <td>3</td>\n",
       "      <td>SCO2</td>\n",
       "    </tr>\n",
       "    <tr>\n",
       "      <th>4940</th>\n",
       "      <td>131222</td>\n",
       "      <td>603041</td>\n",
       "      <td>Autosomal recessive</td>\n",
       "      <td>3</td>\n",
       "      <td>TYMP</td>\n",
       "    </tr>\n",
       "    <tr>\n",
       "      <th>4941</th>\n",
       "      <td>612395</td>\n",
       "      <td>602541</td>\n",
       "      <td>Autosomal recessive</td>\n",
       "      <td>3</td>\n",
       "      <td>CHKB</td>\n",
       "    </tr>\n",
       "    <tr>\n",
       "      <th>4942</th>\n",
       "      <td>607574</td>\n",
       "      <td>250100</td>\n",
       "      <td>Autosomal recessive</td>\n",
       "      <td>3</td>\n",
       "      <td>ARSA</td>\n",
       "    </tr>\n",
       "    <tr>\n",
       "      <th>4943</th>\n",
       "      <td>606230</td>\n",
       "      <td>606232</td>\n",
       "      <td>Autosomal dominant</td>\n",
       "      <td>3</td>\n",
       "      <td>SHANK3</td>\n",
       "    </tr>\n",
       "  </tbody>\n",
       "</table>\n",
       "<p>4944 rows × 5 columns</p>\n",
       "</div>"
      ],
      "text/plain": [
       "      geneMIM phenoMIM          inheritance mappingMethod Approved Gene Symbol\n",
       "0      147571   616126  Autosomal recessive             3                ISG15\n",
       "1      103320   615120  Autosomal recessive             3                 AGRN\n",
       "2      615291   615349  Autosomal recessive             3              B3GALT6\n",
       "3      615291   271640  Autosomal recessive             3              B3GALT6\n",
       "4      615291   609465  Autosomal recessive             3              B3GALT6\n",
       "...       ...      ...                  ...           ...                  ...\n",
       "4939   604272   604377  Autosomal recessive             3                 SCO2\n",
       "4940   131222   603041  Autosomal recessive             3                 TYMP\n",
       "4941   612395   602541  Autosomal recessive             3                 CHKB\n",
       "4942   607574   250100  Autosomal recessive             3                 ARSA\n",
       "4943   606230   606232   Autosomal dominant             3               SHANK3\n",
       "\n",
       "[4944 rows x 5 columns]"
      ]
     },
     "execution_count": 7,
     "metadata": {},
     "output_type": "execute_result"
    }
   ],
   "source": [
    "newMap2=newMap.loc[((newMap['inheritance']==\"Autosomal dominant\") | (newMap['inheritance']==\"Autosomal recessive\")),:]\n",
    "newMap3=newMap2.loc[newMap2['mappingMethod']=='3',:]\n",
    "# add back in the gene names\n",
    "mimToGene=mimToGene.rename(columns={'MIM Number':'geneMIM','Approved Symbol':'GeneSymbol'})\n",
    "newMap4=newMap3.merge(mimToGene,how='inner',on='geneMIM')\n",
    "newMap4.to_csv('OMIM/geneToPhenoToInheritanceMap_filtered.txt',sep='\\t',index=False)\n",
    "newMap4"
   ]
  },
  {
   "cell_type": "markdown",
   "metadata": {},
   "source": [
    "# Parse clinvar variants"
   ]
  },
  {
   "cell_type": "markdown",
   "metadata": {},
   "source": [
    "## 2021.01"
   ]
  },
  {
   "cell_type": "code",
   "execution_count": 1,
   "metadata": {},
   "outputs": [
    {
     "data": {
      "text/html": [
       "<div>\n",
       "<style scoped>\n",
       "    .dataframe tbody tr th:only-of-type {\n",
       "        vertical-align: middle;\n",
       "    }\n",
       "\n",
       "    .dataframe tbody tr th {\n",
       "        vertical-align: top;\n",
       "    }\n",
       "\n",
       "    .dataframe thead th {\n",
       "        text-align: right;\n",
       "    }\n",
       "</style>\n",
       "<table border=\"1\" class=\"dataframe\">\n",
       "  <thead>\n",
       "    <tr style=\"text-align: right;\">\n",
       "      <th></th>\n",
       "      <th>geneMIM</th>\n",
       "      <th>phenoMIM</th>\n",
       "      <th>inheritance</th>\n",
       "      <th>mappingMethod</th>\n",
       "      <th>Approved Gene Symbol</th>\n",
       "    </tr>\n",
       "  </thead>\n",
       "  <tbody>\n",
       "    <tr>\n",
       "      <th>0</th>\n",
       "      <td>147571</td>\n",
       "      <td>616126</td>\n",
       "      <td>Autosomal recessive</td>\n",
       "      <td>3</td>\n",
       "      <td>ISG15</td>\n",
       "    </tr>\n",
       "    <tr>\n",
       "      <th>1</th>\n",
       "      <td>103320</td>\n",
       "      <td>615120</td>\n",
       "      <td>Autosomal recessive</td>\n",
       "      <td>3</td>\n",
       "      <td>AGRN</td>\n",
       "    </tr>\n",
       "    <tr>\n",
       "      <th>2</th>\n",
       "      <td>615291</td>\n",
       "      <td>615349</td>\n",
       "      <td>Autosomal recessive</td>\n",
       "      <td>3</td>\n",
       "      <td>B3GALT6</td>\n",
       "    </tr>\n",
       "    <tr>\n",
       "      <th>3</th>\n",
       "      <td>615291</td>\n",
       "      <td>271640</td>\n",
       "      <td>Autosomal recessive</td>\n",
       "      <td>3</td>\n",
       "      <td>B3GALT6</td>\n",
       "    </tr>\n",
       "    <tr>\n",
       "      <th>4</th>\n",
       "      <td>615291</td>\n",
       "      <td>609465</td>\n",
       "      <td>Autosomal recessive</td>\n",
       "      <td>3</td>\n",
       "      <td>B3GALT6</td>\n",
       "    </tr>\n",
       "    <tr>\n",
       "      <th>...</th>\n",
       "      <td>...</td>\n",
       "      <td>...</td>\n",
       "      <td>...</td>\n",
       "      <td>...</td>\n",
       "      <td>...</td>\n",
       "    </tr>\n",
       "    <tr>\n",
       "      <th>4939</th>\n",
       "      <td>604272</td>\n",
       "      <td>604377</td>\n",
       "      <td>Autosomal recessive</td>\n",
       "      <td>3</td>\n",
       "      <td>SCO2</td>\n",
       "    </tr>\n",
       "    <tr>\n",
       "      <th>4940</th>\n",
       "      <td>131222</td>\n",
       "      <td>603041</td>\n",
       "      <td>Autosomal recessive</td>\n",
       "      <td>3</td>\n",
       "      <td>TYMP</td>\n",
       "    </tr>\n",
       "    <tr>\n",
       "      <th>4941</th>\n",
       "      <td>612395</td>\n",
       "      <td>602541</td>\n",
       "      <td>Autosomal recessive</td>\n",
       "      <td>3</td>\n",
       "      <td>CHKB</td>\n",
       "    </tr>\n",
       "    <tr>\n",
       "      <th>4942</th>\n",
       "      <td>607574</td>\n",
       "      <td>250100</td>\n",
       "      <td>Autosomal recessive</td>\n",
       "      <td>3</td>\n",
       "      <td>ARSA</td>\n",
       "    </tr>\n",
       "    <tr>\n",
       "      <th>4943</th>\n",
       "      <td>606230</td>\n",
       "      <td>606232</td>\n",
       "      <td>Autosomal dominant</td>\n",
       "      <td>3</td>\n",
       "      <td>SHANK3</td>\n",
       "    </tr>\n",
       "  </tbody>\n",
       "</table>\n",
       "<p>4814 rows × 5 columns</p>\n",
       "</div>"
      ],
      "text/plain": [
       "      geneMIM phenoMIM          inheritance  mappingMethod  \\\n",
       "0      147571   616126  Autosomal recessive              3   \n",
       "1      103320   615120  Autosomal recessive              3   \n",
       "2      615291   615349  Autosomal recessive              3   \n",
       "3      615291   271640  Autosomal recessive              3   \n",
       "4      615291   609465  Autosomal recessive              3   \n",
       "...       ...      ...                  ...            ...   \n",
       "4939   604272   604377  Autosomal recessive              3   \n",
       "4940   131222   603041  Autosomal recessive              3   \n",
       "4941   612395   602541  Autosomal recessive              3   \n",
       "4942   607574   250100  Autosomal recessive              3   \n",
       "4943   606230   606232   Autosomal dominant              3   \n",
       "\n",
       "     Approved Gene Symbol  \n",
       "0                   ISG15  \n",
       "1                    AGRN  \n",
       "2                 B3GALT6  \n",
       "3                 B3GALT6  \n",
       "4                 B3GALT6  \n",
       "...                   ...  \n",
       "4939                 SCO2  \n",
       "4940                 TYMP  \n",
       "4941                 CHKB  \n",
       "4942                 ARSA  \n",
       "4943               SHANK3  \n",
       "\n",
       "[4814 rows x 5 columns]"
      ]
     },
     "execution_count": 1,
     "metadata": {},
     "output_type": "execute_result"
    }
   ],
   "source": [
    "import pandas\n",
    "inheritanceMap=pandas.read_csv('OMIM/geneToPhenoToInheritanceMap_filtered.txt',sep='\\t',low_memory=False)\n",
    "inheritanceMap=inheritanceMap.drop_duplicates(subset=['geneMIM','phenoMIM','inheritance'],keep='first')\n",
    "inheritanceMap"
   ]
  },
  {
   "cell_type": "code",
   "execution_count": 2,
   "metadata": {},
   "outputs": [
    {
     "data": {
      "text/plain": [
       "single nucleotide variant    1408788\n",
       "Deletion                       97092\n",
       "Duplication                    42477\n",
       "copy number loss               35139\n",
       "copy number gain               34897\n",
       "Microsatellite                 22640\n",
       "Indel                          11130\n",
       "Insertion                       8313\n",
       "Variation                        780\n",
       "Inversion                        717\n",
       "Translocation                    307\n",
       "protein only                     103\n",
       "Complex                           62\n",
       "fusion                             6\n",
       "Tandem duplication                 1\n",
       "Name: Type, dtype: int64"
      ]
     },
     "execution_count": 2,
     "metadata": {},
     "output_type": "execute_result"
    }
   ],
   "source": [
    "# ClinVar files downloaded from: https://ftp.ncbi.nlm.nih.gov/pub/clinvar/tab_delimited/archive/\n",
    "clinvar=pandas.read_csv('clinvar/variant_summary_2021-01.txt',sep='\\t',low_memory=False)\n",
    "clinvar.loc[:,'Type'].value_counts()"
   ]
  },
  {
   "cell_type": "code",
   "execution_count": 7,
   "metadata": {},
   "outputs": [],
   "source": [
    "clinvar=clinvar.loc[clinvar['Assembly']==\"GRCh37\",:]\n",
    "clinvar=clinvar.loc[((clinvar['Type']==\"single nucleotide variant\") | (clinvar['Type']==\"Deletion\") | (clinvar['Type']==\"Duplication\") | (clinvar['Type']==\"Microsatellite\") | (clinvar['Type']==\"Indel\") | (clinvar['Type']==\"Insertion\")),:]\n",
    "benign=clinvar.loc[((clinvar['ClinicalSignificance']==\"Benign\") | (clinvar['ClinicalSignificance']==\"Likely benign\") | (clinvar['ClinicalSignificance']==\"Benign/Likely benign\")),:]\n",
    "benign=benign.loc[~(benign['ReviewStatus']==\"no assertion criteria provided\"),['Chromosome','PositionVCF','ReferenceAlleleVCF','AlternateAlleleVCF']]\n",
    "benign=benign.rename(columns={'PositionVCF':'Position','ReferenceAlleleVCF':'ReferenceAllele','AlternateAlleleVCF':'AlternateAllele'}).sort_values(by=['Chromosome','Position','ReferenceAllele','AlternateAllele'])\n",
    "benign.to_csv('clinvar/clinvar_202101_oneToFourStarBenignVariants_locations.txt',sep='\\t',index=False)\n",
    "clinvar=clinvar.loc[((clinvar['ClinicalSignificance']==\"Pathogenic\") | (clinvar['ClinicalSignificance']==\"Likely pathogenic\") | (clinvar['ClinicalSignificance']==\"Pathogenic/Likely pathogenic\")),:]\n",
    "clinvar=clinvar.loc[~(clinvar['OriginSimple']==\"somatic\"),:]\n",
    "clinvar=clinvar.loc[clinvar['PhenotypeIDS'].str.contains(\"OMIM:\"),:]"
   ]
  },
  {
   "cell_type": "code",
   "execution_count": 16,
   "metadata": {},
   "outputs": [],
   "source": [
    "# get the relationships between clinvar allele IDs and omim phenotype ids \n",
    "clinvarOmimPheno=pandas.DataFrame(clinvar['PhenotypeIDS'].str.split(';').tolist(), index=clinvar['AlleleID'].values).stack()\n",
    "clinvarOmimPheno=clinvarOmimPheno[clinvarOmimPheno.str.contains(\"OMIM:\")]\n",
    "clinvarAlleleIDs=clinvarOmimPheno.index.get_level_values(0)\n",
    "clinvarAlleleOmimIDs=clinvarOmimPheno.str.split(\"OMIM:\").str[1].str.split(\",\").str[0].str.strip()\n",
    "clinvarAllelesToOmimIDs=pandas.DataFrame({'clinvarAlleleID':clinvarAlleleIDs,'phenoMIM':clinvarAlleleOmimIDs.values})"
   ]
  },
  {
   "cell_type": "code",
   "execution_count": 17,
   "metadata": {},
   "outputs": [
    {
     "data": {
      "text/plain": [
       "criteria provided, single submitter                     29424\n",
       "no assertion criteria provided                          20335\n",
       "criteria provided, multiple submitters, no conflicts    10668\n",
       "reviewed by expert panel                                 1171\n",
       "practice guideline                                         14\n",
       "Name: ReviewStatus, dtype: int64"
      ]
     },
     "execution_count": 17,
     "metadata": {},
     "output_type": "execute_result"
    }
   ],
   "source": [
    "# select down to just the allele IDs for which we have at least one inheritance pattern in omim\n",
    "clinvarAllelesWithInheritance=clinvarAllelesToOmimIDs.merge(inheritanceMap,how='inner',on='phenoMIM')\n",
    "# select down to just the variants without conflicts in the inheritance\n",
    "clinvarAllelesWithInheritance2=clinvarAllelesWithInheritance.drop_duplicates(subset=['clinvarAlleleID','inheritance'],keep='first')\n",
    "clinvarAllelesWithInheritance3=clinvarAllelesWithInheritance2.drop_duplicates(subset='clinvarAlleleID',keep=False)\n",
    "# get the original data on the alleles with omim inheritance\n",
    "clinvar2=clinvar.merge(clinvarAllelesWithInheritance3,how='inner',left_on=['AlleleID'],right_on=['clinvarAlleleID'])\n",
    "clinvar2.loc[:,'ReviewStatus'].value_counts()"
   ]
  },
  {
   "cell_type": "code",
   "execution_count": 18,
   "metadata": {},
   "outputs": [
    {
     "data": {
      "text/plain": [
       "24054"
      ]
     },
     "execution_count": 18,
     "metadata": {},
     "output_type": "execute_result"
    }
   ],
   "source": [
    "clinvar3=clinvar2.loc[~(clinvar2['ReviewStatus']==\"no assertion criteria provided\"),:]\n",
    "len(clinvar3.loc[clinvar3['inheritance']=='Autosomal recessive',:]) # this is the number of recessive variants we have now (but this includes coding and noncoding)"
   ]
  },
  {
   "cell_type": "code",
   "execution_count": 19,
   "metadata": {},
   "outputs": [
    {
     "data": {
      "text/plain": [
       "17223"
      ]
     },
     "execution_count": 19,
     "metadata": {},
     "output_type": "execute_result"
    }
   ],
   "source": [
    "len(clinvar3.loc[clinvar3['inheritance']=='Autosomal dominant',:]) # this is the number of dominant variants we have now (but this includes coding and noncoding)"
   ]
  },
  {
   "cell_type": "code",
   "execution_count": 23,
   "metadata": {},
   "outputs": [],
   "source": [
    "clinvar3AR=clinvar3.loc[clinvar3['inheritance']=='Autosomal recessive',['Chromosome','PositionVCF','ReferenceAlleleVCF','AlternateAlleleVCF']]\n",
    "clinvar3AD=clinvar3.loc[clinvar3['inheritance']=='Autosomal dominant',['Chromosome','PositionVCF','ReferenceAlleleVCF','AlternateAlleleVCF']]\n",
    "clinvar3AR=clinvar3AR.rename(columns={'PositionVCF':'Position','ReferenceAlleleVCF':'ReferenceAllele','AlternateAlleleVCF':'AlternateAllele'}).sort_values(by=['Chromosome','Position','ReferenceAllele','AlternateAllele'])\n",
    "clinvar3AD=clinvar3AD.rename(columns={'PositionVCF':'Position','ReferenceAlleleVCF':'ReferenceAllele','AlternateAlleleVCF':'AlternateAllele'}).sort_values(by=['Chromosome','Position','ReferenceAllele','AlternateAllele'])\n",
    "clinvar3AR=clinvar3AR.loc[clinvar3AR['Position']!=-1,:]\n",
    "clinvar3AD=clinvar3AD.loc[clinvar3AD['Position']!=-1,:]\n",
    "clinvar3AR.to_csv('clinvar/clinvar_202101_oneToFourStarPathogenicVariants_autosomalRecessive_locations.txt',sep='\\t',index=False)\n",
    "clinvar3AD.to_csv('clinvar/clinvar_202101_oneToFourStarPathogenicVariants_autosomalDominant_locations.txt',sep='\\t',index=False)\n"
   ]
  },
  {
   "cell_type": "markdown",
   "metadata": {},
   "source": [
    "## 2022.01"
   ]
  },
  {
   "cell_type": "code",
   "execution_count": 1,
   "metadata": {},
   "outputs": [
    {
     "data": {
      "text/html": [
       "<div>\n",
       "<style scoped>\n",
       "    .dataframe tbody tr th:only-of-type {\n",
       "        vertical-align: middle;\n",
       "    }\n",
       "\n",
       "    .dataframe tbody tr th {\n",
       "        vertical-align: top;\n",
       "    }\n",
       "\n",
       "    .dataframe thead th {\n",
       "        text-align: right;\n",
       "    }\n",
       "</style>\n",
       "<table border=\"1\" class=\"dataframe\">\n",
       "  <thead>\n",
       "    <tr style=\"text-align: right;\">\n",
       "      <th></th>\n",
       "      <th>geneMIM</th>\n",
       "      <th>phenoMIM</th>\n",
       "      <th>inheritance</th>\n",
       "      <th>mappingMethod</th>\n",
       "      <th>Approved Gene Symbol</th>\n",
       "    </tr>\n",
       "  </thead>\n",
       "  <tbody>\n",
       "    <tr>\n",
       "      <th>0</th>\n",
       "      <td>147571</td>\n",
       "      <td>616126</td>\n",
       "      <td>Autosomal recessive</td>\n",
       "      <td>3</td>\n",
       "      <td>ISG15</td>\n",
       "    </tr>\n",
       "    <tr>\n",
       "      <th>1</th>\n",
       "      <td>103320</td>\n",
       "      <td>615120</td>\n",
       "      <td>Autosomal recessive</td>\n",
       "      <td>3</td>\n",
       "      <td>AGRN</td>\n",
       "    </tr>\n",
       "    <tr>\n",
       "      <th>2</th>\n",
       "      <td>615291</td>\n",
       "      <td>615349</td>\n",
       "      <td>Autosomal recessive</td>\n",
       "      <td>3</td>\n",
       "      <td>B3GALT6</td>\n",
       "    </tr>\n",
       "    <tr>\n",
       "      <th>3</th>\n",
       "      <td>615291</td>\n",
       "      <td>271640</td>\n",
       "      <td>Autosomal recessive</td>\n",
       "      <td>3</td>\n",
       "      <td>B3GALT6</td>\n",
       "    </tr>\n",
       "    <tr>\n",
       "      <th>4</th>\n",
       "      <td>615291</td>\n",
       "      <td>609465</td>\n",
       "      <td>Autosomal recessive</td>\n",
       "      <td>3</td>\n",
       "      <td>B3GALT6</td>\n",
       "    </tr>\n",
       "    <tr>\n",
       "      <th>...</th>\n",
       "      <td>...</td>\n",
       "      <td>...</td>\n",
       "      <td>...</td>\n",
       "      <td>...</td>\n",
       "      <td>...</td>\n",
       "    </tr>\n",
       "    <tr>\n",
       "      <th>4939</th>\n",
       "      <td>604272</td>\n",
       "      <td>604377</td>\n",
       "      <td>Autosomal recessive</td>\n",
       "      <td>3</td>\n",
       "      <td>SCO2</td>\n",
       "    </tr>\n",
       "    <tr>\n",
       "      <th>4940</th>\n",
       "      <td>131222</td>\n",
       "      <td>603041</td>\n",
       "      <td>Autosomal recessive</td>\n",
       "      <td>3</td>\n",
       "      <td>TYMP</td>\n",
       "    </tr>\n",
       "    <tr>\n",
       "      <th>4941</th>\n",
       "      <td>612395</td>\n",
       "      <td>602541</td>\n",
       "      <td>Autosomal recessive</td>\n",
       "      <td>3</td>\n",
       "      <td>CHKB</td>\n",
       "    </tr>\n",
       "    <tr>\n",
       "      <th>4942</th>\n",
       "      <td>607574</td>\n",
       "      <td>250100</td>\n",
       "      <td>Autosomal recessive</td>\n",
       "      <td>3</td>\n",
       "      <td>ARSA</td>\n",
       "    </tr>\n",
       "    <tr>\n",
       "      <th>4943</th>\n",
       "      <td>606230</td>\n",
       "      <td>606232</td>\n",
       "      <td>Autosomal dominant</td>\n",
       "      <td>3</td>\n",
       "      <td>SHANK3</td>\n",
       "    </tr>\n",
       "  </tbody>\n",
       "</table>\n",
       "<p>4814 rows × 5 columns</p>\n",
       "</div>"
      ],
      "text/plain": [
       "      geneMIM phenoMIM          inheritance  mappingMethod  \\\n",
       "0      147571   616126  Autosomal recessive              3   \n",
       "1      103320   615120  Autosomal recessive              3   \n",
       "2      615291   615349  Autosomal recessive              3   \n",
       "3      615291   271640  Autosomal recessive              3   \n",
       "4      615291   609465  Autosomal recessive              3   \n",
       "...       ...      ...                  ...            ...   \n",
       "4939   604272   604377  Autosomal recessive              3   \n",
       "4940   131222   603041  Autosomal recessive              3   \n",
       "4941   612395   602541  Autosomal recessive              3   \n",
       "4942   607574   250100  Autosomal recessive              3   \n",
       "4943   606230   606232   Autosomal dominant              3   \n",
       "\n",
       "     Approved Gene Symbol  \n",
       "0                   ISG15  \n",
       "1                    AGRN  \n",
       "2                 B3GALT6  \n",
       "3                 B3GALT6  \n",
       "4                 B3GALT6  \n",
       "...                   ...  \n",
       "4939                 SCO2  \n",
       "4940                 TYMP  \n",
       "4941                 CHKB  \n",
       "4942                 ARSA  \n",
       "4943               SHANK3  \n",
       "\n",
       "[4814 rows x 5 columns]"
      ]
     },
     "execution_count": 1,
     "metadata": {},
     "output_type": "execute_result"
    }
   ],
   "source": [
    "import pandas\n",
    "inheritanceMap=pandas.read_csv('OMIM/geneToPhenoToInheritanceMap_filtered.txt',sep='\\t',low_memory=False)\n",
    "inheritanceMap=inheritanceMap.drop_duplicates(subset=['geneMIM','phenoMIM','inheritance'],keep='first')\n",
    "inheritanceMap"
   ]
  },
  {
   "cell_type": "code",
   "execution_count": 8,
   "metadata": {},
   "outputs": [
    {
     "data": {
      "text/plain": [
       "single nucleotide variant    1981494\n",
       "Deletion                      134699\n",
       "Duplication                    63166\n",
       "Microsatellite                 36460\n",
       "copy number loss               35471\n",
       "copy number gain               35059\n",
       "Indel                          13372\n",
       "Insertion                      13252\n",
       "Inversion                        973\n",
       "Variation                        882\n",
       "Translocation                    318\n",
       "protein only                      99\n",
       "Complex                           66\n",
       "fusion                             6\n",
       "Tandem duplication                 1\n",
       "Name: Type, dtype: int64"
      ]
     },
     "execution_count": 8,
     "metadata": {},
     "output_type": "execute_result"
    }
   ],
   "source": [
    "clinvar=pandas.read_csv('clinvar/variant_summary_2022-01.txt',sep='\\t',low_memory=False)\n",
    "clinvar.loc[:,'Type'].value_counts()"
   ]
  },
  {
   "cell_type": "code",
   "execution_count": 9,
   "metadata": {},
   "outputs": [],
   "source": [
    "clinvar=clinvar.loc[clinvar['Assembly']==\"GRCh37\",:]\n",
    "clinvar=clinvar.loc[((clinvar['Type']==\"single nucleotide variant\") | (clinvar['Type']==\"Deletion\") | (clinvar['Type']==\"Duplication\") | (clinvar['Type']==\"Microsatellite\") | (clinvar['Type']==\"Indel\") | (clinvar['Type']==\"Insertion\")),:]\n",
    "benign=clinvar.loc[((clinvar['ClinicalSignificance']==\"Benign\") | (clinvar['ClinicalSignificance']==\"Likely benign\") | (clinvar['ClinicalSignificance']==\"Benign/Likely benign\")),:]\n",
    "benign=benign.loc[~(benign['ReviewStatus']==\"no assertion criteria provided\"),['Chromosome','PositionVCF','ReferenceAlleleVCF','AlternateAlleleVCF']]\n",
    "benign=benign.rename(columns={'PositionVCF':'Position','ReferenceAlleleVCF':'ReferenceAllele','AlternateAlleleVCF':'AlternateAllele'}).sort_values(by=['Chromosome','Position','ReferenceAllele','AlternateAllele'])\n",
    "benign.to_csv('clinvar/clinvar_202201_oneToFourStarBenignVariants_locations.txt',sep='\\t',index=False)\n",
    "clinvar=clinvar.loc[((clinvar['ClinicalSignificance']==\"Pathogenic\") | (clinvar['ClinicalSignificance']==\"Likely pathogenic\") | (clinvar['ClinicalSignificance']==\"Pathogenic/Likely pathogenic\")),:]\n",
    "clinvar=clinvar.loc[~(clinvar['OriginSimple']==\"somatic\"),:]\n",
    "clinvar=clinvar.loc[clinvar['PhenotypeIDS'].str.contains(\"OMIM:\"),:]"
   ]
  },
  {
   "cell_type": "code",
   "execution_count": 4,
   "metadata": {},
   "outputs": [],
   "source": [
    "# get the relationships between clinvar allele IDs and omim phenotype ids \n",
    "clinvarOmimPheno=pandas.DataFrame(clinvar['PhenotypeIDS'].str.split(';').tolist(), index=clinvar['AlleleID'].values).stack()\n",
    "clinvarOmimPheno=clinvarOmimPheno[clinvarOmimPheno.str.contains(\"OMIM:\")]\n",
    "clinvarAlleleIDs=clinvarOmimPheno.index.get_level_values(0)\n",
    "clinvarAlleleOmimIDs=clinvarOmimPheno.str.split(\"OMIM:\").str[1].str.split(\",\").str[0].str.strip()\n",
    "clinvarAllelesToOmimIDs=pandas.DataFrame({'clinvarAlleleID':clinvarAlleleIDs,'phenoMIM':clinvarAlleleOmimIDs.values})"
   ]
  },
  {
   "cell_type": "code",
   "execution_count": 5,
   "metadata": {},
   "outputs": [
    {
     "data": {
      "text/plain": [
       "criteria provided, single submitter                     36429\n",
       "no assertion criteria provided                          20868\n",
       "criteria provided, multiple submitters, no conflicts    14025\n",
       "reviewed by expert panel                                 1365\n",
       "practice guideline                                         14\n",
       "Name: ReviewStatus, dtype: int64"
      ]
     },
     "execution_count": 5,
     "metadata": {},
     "output_type": "execute_result"
    }
   ],
   "source": [
    "# select down to just the allele IDs for which we have at least one inheritance pattern in omim\n",
    "clinvarAllelesWithInheritance=clinvarAllelesToOmimIDs.merge(inheritanceMap,how='inner',on='phenoMIM')\n",
    "# select down to just the variants without conflicts in the inheritance\n",
    "clinvarAllelesWithInheritance2=clinvarAllelesWithInheritance.drop_duplicates(subset=['clinvarAlleleID','inheritance'],keep='first')\n",
    "clinvarAllelesWithInheritance3=clinvarAllelesWithInheritance2.drop_duplicates(subset='clinvarAlleleID',keep=False)\n",
    "# get the original data on the alleles with omim inheritance\n",
    "clinvar2=clinvar.merge(clinvarAllelesWithInheritance3,how='inner',left_on=['AlleleID'],right_on=['clinvarAlleleID'])\n",
    "clinvar2.loc[:,'ReviewStatus'].value_counts()"
   ]
  },
  {
   "cell_type": "code",
   "execution_count": 6,
   "metadata": {},
   "outputs": [
    {
     "data": {
      "text/plain": [
       "29627"
      ]
     },
     "execution_count": 6,
     "metadata": {},
     "output_type": "execute_result"
    }
   ],
   "source": [
    "clinvar3=clinvar2.loc[~(clinvar2['ReviewStatus']==\"no assertion criteria provided\"),:]\n",
    "len(clinvar3.loc[clinvar3['inheritance']=='Autosomal recessive',:]) # this is the number of recessive variants we have now (but this includes coding and noncoding)"
   ]
  },
  {
   "cell_type": "code",
   "execution_count": 7,
   "metadata": {},
   "outputs": [
    {
     "data": {
      "text/plain": [
       "22206"
      ]
     },
     "execution_count": 7,
     "metadata": {},
     "output_type": "execute_result"
    }
   ],
   "source": [
    "len(clinvar3.loc[clinvar3['inheritance']=='Autosomal dominant',:]) # this is the number of dominant variants we have now (but this includes coding and noncoding)"
   ]
  },
  {
   "cell_type": "code",
   "execution_count": 8,
   "metadata": {},
   "outputs": [],
   "source": [
    "clinvar3AR=clinvar3.loc[clinvar3['inheritance']=='Autosomal recessive',['Chromosome','PositionVCF','ReferenceAlleleVCF','AlternateAlleleVCF']]\n",
    "clinvar3AD=clinvar3.loc[clinvar3['inheritance']=='Autosomal dominant',['Chromosome','PositionVCF','ReferenceAlleleVCF','AlternateAlleleVCF']]\n",
    "clinvar3AR=clinvar3AR.rename(columns={'PositionVCF':'Position','ReferenceAlleleVCF':'ReferenceAllele','AlternateAlleleVCF':'AlternateAllele'}).sort_values(by=['Chromosome','Position','ReferenceAllele','AlternateAllele'])\n",
    "clinvar3AD=clinvar3AD.rename(columns={'PositionVCF':'Position','ReferenceAlleleVCF':'ReferenceAllele','AlternateAlleleVCF':'AlternateAllele'}).sort_values(by=['Chromosome','Position','ReferenceAllele','AlternateAllele'])\n",
    "clinvar3AR=clinvar3AR.loc[clinvar3AR['Position']!=-1,:]\n",
    "clinvar3AD=clinvar3AD.loc[clinvar3AD['Position']!=-1,:]\n",
    "clinvar3AR.to_csv('clinvar/clinvar_202201_oneToFourStarPathogenicVariants_autosomalRecessive_locations.txt',sep='\\t',index=False)\n",
    "clinvar3AD.to_csv('clinvar/clinvar_202201_oneToFourStarPathogenicVariants_autosomalDominant_locations.txt',sep='\\t',index=False)\n"
   ]
  },
  {
   "cell_type": "markdown",
   "metadata": {},
   "source": [
    "## 2023.01"
   ]
  },
  {
   "cell_type": "code",
   "execution_count": 1,
   "metadata": {},
   "outputs": [
    {
     "data": {
      "text/html": [
       "<div>\n",
       "<style scoped>\n",
       "    .dataframe tbody tr th:only-of-type {\n",
       "        vertical-align: middle;\n",
       "    }\n",
       "\n",
       "    .dataframe tbody tr th {\n",
       "        vertical-align: top;\n",
       "    }\n",
       "\n",
       "    .dataframe thead th {\n",
       "        text-align: right;\n",
       "    }\n",
       "</style>\n",
       "<table border=\"1\" class=\"dataframe\">\n",
       "  <thead>\n",
       "    <tr style=\"text-align: right;\">\n",
       "      <th></th>\n",
       "      <th>geneMIM</th>\n",
       "      <th>phenoMIM</th>\n",
       "      <th>inheritance</th>\n",
       "      <th>mappingMethod</th>\n",
       "      <th>Approved Gene Symbol</th>\n",
       "    </tr>\n",
       "  </thead>\n",
       "  <tbody>\n",
       "    <tr>\n",
       "      <th>0</th>\n",
       "      <td>147571</td>\n",
       "      <td>616126</td>\n",
       "      <td>Autosomal recessive</td>\n",
       "      <td>3</td>\n",
       "      <td>ISG15</td>\n",
       "    </tr>\n",
       "    <tr>\n",
       "      <th>1</th>\n",
       "      <td>103320</td>\n",
       "      <td>615120</td>\n",
       "      <td>Autosomal recessive</td>\n",
       "      <td>3</td>\n",
       "      <td>AGRN</td>\n",
       "    </tr>\n",
       "    <tr>\n",
       "      <th>2</th>\n",
       "      <td>615291</td>\n",
       "      <td>615349</td>\n",
       "      <td>Autosomal recessive</td>\n",
       "      <td>3</td>\n",
       "      <td>B3GALT6</td>\n",
       "    </tr>\n",
       "    <tr>\n",
       "      <th>3</th>\n",
       "      <td>615291</td>\n",
       "      <td>271640</td>\n",
       "      <td>Autosomal recessive</td>\n",
       "      <td>3</td>\n",
       "      <td>B3GALT6</td>\n",
       "    </tr>\n",
       "    <tr>\n",
       "      <th>4</th>\n",
       "      <td>615291</td>\n",
       "      <td>609465</td>\n",
       "      <td>Autosomal recessive</td>\n",
       "      <td>3</td>\n",
       "      <td>B3GALT6</td>\n",
       "    </tr>\n",
       "    <tr>\n",
       "      <th>...</th>\n",
       "      <td>...</td>\n",
       "      <td>...</td>\n",
       "      <td>...</td>\n",
       "      <td>...</td>\n",
       "      <td>...</td>\n",
       "    </tr>\n",
       "    <tr>\n",
       "      <th>4939</th>\n",
       "      <td>604272</td>\n",
       "      <td>604377</td>\n",
       "      <td>Autosomal recessive</td>\n",
       "      <td>3</td>\n",
       "      <td>SCO2</td>\n",
       "    </tr>\n",
       "    <tr>\n",
       "      <th>4940</th>\n",
       "      <td>131222</td>\n",
       "      <td>603041</td>\n",
       "      <td>Autosomal recessive</td>\n",
       "      <td>3</td>\n",
       "      <td>TYMP</td>\n",
       "    </tr>\n",
       "    <tr>\n",
       "      <th>4941</th>\n",
       "      <td>612395</td>\n",
       "      <td>602541</td>\n",
       "      <td>Autosomal recessive</td>\n",
       "      <td>3</td>\n",
       "      <td>CHKB</td>\n",
       "    </tr>\n",
       "    <tr>\n",
       "      <th>4942</th>\n",
       "      <td>607574</td>\n",
       "      <td>250100</td>\n",
       "      <td>Autosomal recessive</td>\n",
       "      <td>3</td>\n",
       "      <td>ARSA</td>\n",
       "    </tr>\n",
       "    <tr>\n",
       "      <th>4943</th>\n",
       "      <td>606230</td>\n",
       "      <td>606232</td>\n",
       "      <td>Autosomal dominant</td>\n",
       "      <td>3</td>\n",
       "      <td>SHANK3</td>\n",
       "    </tr>\n",
       "  </tbody>\n",
       "</table>\n",
       "<p>4814 rows × 5 columns</p>\n",
       "</div>"
      ],
      "text/plain": [
       "      geneMIM phenoMIM          inheritance  mappingMethod  \\\n",
       "0      147571   616126  Autosomal recessive              3   \n",
       "1      103320   615120  Autosomal recessive              3   \n",
       "2      615291   615349  Autosomal recessive              3   \n",
       "3      615291   271640  Autosomal recessive              3   \n",
       "4      615291   609465  Autosomal recessive              3   \n",
       "...       ...      ...                  ...            ...   \n",
       "4939   604272   604377  Autosomal recessive              3   \n",
       "4940   131222   603041  Autosomal recessive              3   \n",
       "4941   612395   602541  Autosomal recessive              3   \n",
       "4942   607574   250100  Autosomal recessive              3   \n",
       "4943   606230   606232   Autosomal dominant              3   \n",
       "\n",
       "     Approved Gene Symbol  \n",
       "0                   ISG15  \n",
       "1                    AGRN  \n",
       "2                 B3GALT6  \n",
       "3                 B3GALT6  \n",
       "4                 B3GALT6  \n",
       "...                   ...  \n",
       "4939                 SCO2  \n",
       "4940                 TYMP  \n",
       "4941                 CHKB  \n",
       "4942                 ARSA  \n",
       "4943               SHANK3  \n",
       "\n",
       "[4814 rows x 5 columns]"
      ]
     },
     "execution_count": 1,
     "metadata": {},
     "output_type": "execute_result"
    }
   ],
   "source": [
    "import pandas\n",
    "inheritanceMap=pandas.read_csv('OMIM/geneToPhenoToInheritanceMap_filtered.txt',sep='\\t',low_memory=False)\n",
    "inheritanceMap=inheritanceMap.drop_duplicates(subset=['geneMIM','phenoMIM','inheritance'],keep='first')\n",
    "inheritanceMap"
   ]
  },
  {
   "cell_type": "code",
   "execution_count": 10,
   "metadata": {},
   "outputs": [
    {
     "data": {
      "text/plain": [
       "single nucleotide variant    2831279\n",
       "Deletion                      180902\n",
       "Duplication                    83140\n",
       "Microsatellite                 46908\n",
       "copy number loss               37045\n",
       "copy number gain               36661\n",
       "Indel                          19521\n",
       "Insertion                      17499\n",
       "Inversion                       1638\n",
       "Variation                        815\n",
       "Translocation                    334\n",
       "protein only                      95\n",
       "Complex                           75\n",
       "fusion                             6\n",
       "Tandem duplication                 1\n",
       "Name: Type, dtype: int64"
      ]
     },
     "execution_count": 10,
     "metadata": {},
     "output_type": "execute_result"
    }
   ],
   "source": [
    "clinvar=pandas.read_csv('clinvar/variant_summary_2023-01.txt',sep='\\t',low_memory=False)\n",
    "clinvar.loc[:,'Type'].value_counts()"
   ]
  },
  {
   "cell_type": "code",
   "execution_count": 11,
   "metadata": {},
   "outputs": [],
   "source": [
    "clinvar=clinvar.loc[clinvar['Assembly']==\"GRCh37\",:]\n",
    "clinvar=clinvar.loc[((clinvar['Type']==\"single nucleotide variant\") | (clinvar['Type']==\"Deletion\") | (clinvar['Type']==\"Duplication\") | (clinvar['Type']==\"Microsatellite\") | (clinvar['Type']==\"Indel\") | (clinvar['Type']==\"Insertion\")),:]\n",
    "benign=clinvar.loc[((clinvar['ClinicalSignificance']==\"Benign\") | (clinvar['ClinicalSignificance']==\"Likely benign\") | (clinvar['ClinicalSignificance']==\"Benign/Likely benign\")),:]\n",
    "benign=benign.loc[~(benign['ReviewStatus']==\"no assertion criteria provided\"),['Chromosome','PositionVCF','ReferenceAlleleVCF','AlternateAlleleVCF']]\n",
    "benign=benign.rename(columns={'PositionVCF':'Position','ReferenceAlleleVCF':'ReferenceAllele','AlternateAlleleVCF':'AlternateAllele'}).sort_values(by=['Chromosome','Position','ReferenceAllele','AlternateAllele'])\n",
    "benign.to_csv('clinvar/clinvar_202301_oneToFourStarBenignVariants_locations.txt',sep='\\t',index=False)\n",
    "clinvar=clinvar.loc[((clinvar['ClinicalSignificance']==\"Pathogenic\") | (clinvar['ClinicalSignificance']==\"Likely pathogenic\") | (clinvar['ClinicalSignificance']==\"Pathogenic/Likely pathogenic\")),:]\n",
    "clinvar=clinvar.loc[~(clinvar['OriginSimple']==\"somatic\"),:]\n",
    "clinvar=clinvar.loc[clinvar['PhenotypeIDS'].str.contains(\"OMIM:\"),:]"
   ]
  },
  {
   "cell_type": "code",
   "execution_count": 4,
   "metadata": {},
   "outputs": [],
   "source": [
    "# get the relationships between clinvar allele IDs and omim phenotype ids \n",
    "clinvarOmimPheno=pandas.DataFrame(clinvar['PhenotypeIDS'].str.split(';').tolist(), index=clinvar['AlleleID'].values).stack()\n",
    "clinvarOmimPheno=clinvarOmimPheno[clinvarOmimPheno.str.contains(\"OMIM:\")]\n",
    "clinvarAlleleIDs=clinvarOmimPheno.index.get_level_values(0)\n",
    "clinvarAlleleOmimIDs=clinvarOmimPheno.str.split(\"OMIM:\").str[1].str.split(\",\").str[0].str.strip()\n",
    "clinvarAllelesToOmimIDs=pandas.DataFrame({'clinvarAlleleID':clinvarAlleleIDs,'phenoMIM':clinvarAlleleOmimIDs.values})"
   ]
  },
  {
   "cell_type": "code",
   "execution_count": 5,
   "metadata": {},
   "outputs": [
    {
     "data": {
      "text/plain": [
       "criteria provided, single submitter                     50647\n",
       "criteria provided, multiple submitters, no conflicts    20714\n",
       "no assertion criteria provided                          19974\n",
       "reviewed by expert panel                                 1722\n",
       "practice guideline                                          5\n",
       "Name: ReviewStatus, dtype: int64"
      ]
     },
     "execution_count": 5,
     "metadata": {},
     "output_type": "execute_result"
    }
   ],
   "source": [
    "# select down to just the allele IDs for which we have at least one inheritance pattern in omim\n",
    "clinvarAllelesWithInheritance=clinvarAllelesToOmimIDs.merge(inheritanceMap,how='inner',on='phenoMIM')\n",
    "# select down to just the variants without conflicts in the inheritance\n",
    "clinvarAllelesWithInheritance2=clinvarAllelesWithInheritance.drop_duplicates(subset=['clinvarAlleleID','inheritance'],keep='first')\n",
    "clinvarAllelesWithInheritance3=clinvarAllelesWithInheritance2.drop_duplicates(subset='clinvarAlleleID',keep=False)\n",
    "# get the original data on the alleles with omim inheritance\n",
    "clinvar2=clinvar.merge(clinvarAllelesWithInheritance3,how='inner',left_on=['AlleleID'],right_on=['clinvarAlleleID'])\n",
    "clinvar2.loc[:,'ReviewStatus'].value_counts()"
   ]
  },
  {
   "cell_type": "code",
   "execution_count": 6,
   "metadata": {},
   "outputs": [
    {
     "data": {
      "text/plain": [
       "43621"
      ]
     },
     "execution_count": 6,
     "metadata": {},
     "output_type": "execute_result"
    }
   ],
   "source": [
    "clinvar3=clinvar2.loc[~(clinvar2['ReviewStatus']==\"no assertion criteria provided\"),:]\n",
    "len(clinvar3.loc[clinvar3['inheritance']=='Autosomal recessive',:]) # this is the number of recessive variants we have now (but this includes coding and noncoding)"
   ]
  },
  {
   "cell_type": "code",
   "execution_count": 7,
   "metadata": {},
   "outputs": [
    {
     "data": {
      "text/plain": [
       "29467"
      ]
     },
     "execution_count": 7,
     "metadata": {},
     "output_type": "execute_result"
    }
   ],
   "source": [
    "len(clinvar3.loc[clinvar3['inheritance']=='Autosomal dominant',:]) # this is the number of dominant variants we have now (but this includes coding and noncoding)"
   ]
  },
  {
   "cell_type": "code",
   "execution_count": 8,
   "metadata": {},
   "outputs": [],
   "source": [
    "clinvar3AR=clinvar3.loc[clinvar3['inheritance']=='Autosomal recessive',['Chromosome','PositionVCF','ReferenceAlleleVCF','AlternateAlleleVCF']]\n",
    "clinvar3AD=clinvar3.loc[clinvar3['inheritance']=='Autosomal dominant',['Chromosome','PositionVCF','ReferenceAlleleVCF','AlternateAlleleVCF']]\n",
    "clinvar3AR=clinvar3AR.rename(columns={'PositionVCF':'Position','ReferenceAlleleVCF':'ReferenceAllele','AlternateAlleleVCF':'AlternateAllele'}).sort_values(by=['Chromosome','Position','ReferenceAllele','AlternateAllele'])\n",
    "clinvar3AD=clinvar3AD.rename(columns={'PositionVCF':'Position','ReferenceAlleleVCF':'ReferenceAllele','AlternateAlleleVCF':'AlternateAllele'}).sort_values(by=['Chromosome','Position','ReferenceAllele','AlternateAllele'])\n",
    "clinvar3AR=clinvar3AR.loc[clinvar3AR['Position']!=-1,:]\n",
    "clinvar3AD=clinvar3AD.loc[clinvar3AD['Position']!=-1,:]\n",
    "clinvar3AR.to_csv('clinvar/clinvar_202301_oneToFourStarPathogenicVariants_autosomalRecessive_locations.txt',sep='\\t',index=False)\n",
    "clinvar3AD.to_csv('clinvar/clinvar_202301_oneToFourStarPathogenicVariants_autosomalDominant_locations.txt',sep='\\t',index=False)\n"
   ]
  },
  {
   "cell_type": "markdown",
   "metadata": {},
   "source": [
    "## 2023.10"
   ]
  },
  {
   "cell_type": "code",
   "execution_count": 1,
   "metadata": {},
   "outputs": [
    {
     "data": {
      "text/html": [
       "<div>\n",
       "<style scoped>\n",
       "    .dataframe tbody tr th:only-of-type {\n",
       "        vertical-align: middle;\n",
       "    }\n",
       "\n",
       "    .dataframe tbody tr th {\n",
       "        vertical-align: top;\n",
       "    }\n",
       "\n",
       "    .dataframe thead th {\n",
       "        text-align: right;\n",
       "    }\n",
       "</style>\n",
       "<table border=\"1\" class=\"dataframe\">\n",
       "  <thead>\n",
       "    <tr style=\"text-align: right;\">\n",
       "      <th></th>\n",
       "      <th>geneMIM</th>\n",
       "      <th>phenoMIM</th>\n",
       "      <th>inheritance</th>\n",
       "      <th>mappingMethod</th>\n",
       "      <th>Approved Gene Symbol</th>\n",
       "    </tr>\n",
       "  </thead>\n",
       "  <tbody>\n",
       "    <tr>\n",
       "      <th>0</th>\n",
       "      <td>147571</td>\n",
       "      <td>616126</td>\n",
       "      <td>Autosomal recessive</td>\n",
       "      <td>3</td>\n",
       "      <td>ISG15</td>\n",
       "    </tr>\n",
       "    <tr>\n",
       "      <th>1</th>\n",
       "      <td>103320</td>\n",
       "      <td>615120</td>\n",
       "      <td>Autosomal recessive</td>\n",
       "      <td>3</td>\n",
       "      <td>AGRN</td>\n",
       "    </tr>\n",
       "    <tr>\n",
       "      <th>2</th>\n",
       "      <td>615291</td>\n",
       "      <td>615349</td>\n",
       "      <td>Autosomal recessive</td>\n",
       "      <td>3</td>\n",
       "      <td>B3GALT6</td>\n",
       "    </tr>\n",
       "    <tr>\n",
       "      <th>3</th>\n",
       "      <td>615291</td>\n",
       "      <td>271640</td>\n",
       "      <td>Autosomal recessive</td>\n",
       "      <td>3</td>\n",
       "      <td>B3GALT6</td>\n",
       "    </tr>\n",
       "    <tr>\n",
       "      <th>4</th>\n",
       "      <td>615291</td>\n",
       "      <td>609465</td>\n",
       "      <td>Autosomal recessive</td>\n",
       "      <td>3</td>\n",
       "      <td>B3GALT6</td>\n",
       "    </tr>\n",
       "    <tr>\n",
       "      <th>...</th>\n",
       "      <td>...</td>\n",
       "      <td>...</td>\n",
       "      <td>...</td>\n",
       "      <td>...</td>\n",
       "      <td>...</td>\n",
       "    </tr>\n",
       "    <tr>\n",
       "      <th>4939</th>\n",
       "      <td>604272</td>\n",
       "      <td>604377</td>\n",
       "      <td>Autosomal recessive</td>\n",
       "      <td>3</td>\n",
       "      <td>SCO2</td>\n",
       "    </tr>\n",
       "    <tr>\n",
       "      <th>4940</th>\n",
       "      <td>131222</td>\n",
       "      <td>603041</td>\n",
       "      <td>Autosomal recessive</td>\n",
       "      <td>3</td>\n",
       "      <td>TYMP</td>\n",
       "    </tr>\n",
       "    <tr>\n",
       "      <th>4941</th>\n",
       "      <td>612395</td>\n",
       "      <td>602541</td>\n",
       "      <td>Autosomal recessive</td>\n",
       "      <td>3</td>\n",
       "      <td>CHKB</td>\n",
       "    </tr>\n",
       "    <tr>\n",
       "      <th>4942</th>\n",
       "      <td>607574</td>\n",
       "      <td>250100</td>\n",
       "      <td>Autosomal recessive</td>\n",
       "      <td>3</td>\n",
       "      <td>ARSA</td>\n",
       "    </tr>\n",
       "    <tr>\n",
       "      <th>4943</th>\n",
       "      <td>606230</td>\n",
       "      <td>606232</td>\n",
       "      <td>Autosomal dominant</td>\n",
       "      <td>3</td>\n",
       "      <td>SHANK3</td>\n",
       "    </tr>\n",
       "  </tbody>\n",
       "</table>\n",
       "<p>4814 rows × 5 columns</p>\n",
       "</div>"
      ],
      "text/plain": [
       "      geneMIM phenoMIM          inheritance  mappingMethod  \\\n",
       "0      147571   616126  Autosomal recessive              3   \n",
       "1      103320   615120  Autosomal recessive              3   \n",
       "2      615291   615349  Autosomal recessive              3   \n",
       "3      615291   271640  Autosomal recessive              3   \n",
       "4      615291   609465  Autosomal recessive              3   \n",
       "...       ...      ...                  ...            ...   \n",
       "4939   604272   604377  Autosomal recessive              3   \n",
       "4940   131222   603041  Autosomal recessive              3   \n",
       "4941   612395   602541  Autosomal recessive              3   \n",
       "4942   607574   250100  Autosomal recessive              3   \n",
       "4943   606230   606232   Autosomal dominant              3   \n",
       "\n",
       "     Approved Gene Symbol  \n",
       "0                   ISG15  \n",
       "1                    AGRN  \n",
       "2                 B3GALT6  \n",
       "3                 B3GALT6  \n",
       "4                 B3GALT6  \n",
       "...                   ...  \n",
       "4939                 SCO2  \n",
       "4940                 TYMP  \n",
       "4941                 CHKB  \n",
       "4942                 ARSA  \n",
       "4943               SHANK3  \n",
       "\n",
       "[4814 rows x 5 columns]"
      ]
     },
     "execution_count": 1,
     "metadata": {},
     "output_type": "execute_result"
    }
   ],
   "source": [
    "import pandas\n",
    "inheritanceMap=pandas.read_csv('OMIM/geneToPhenoToInheritanceMap_filtered.txt',sep='\\t',low_memory=False)\n",
    "inheritanceMap=inheritanceMap.drop_duplicates(subset=['geneMIM','phenoMIM','inheritance'],keep='first')\n",
    "inheritanceMap"
   ]
  },
  {
   "cell_type": "code",
   "execution_count": 12,
   "metadata": {},
   "outputs": [
    {
     "data": {
      "text/plain": [
       "single nucleotide variant    4128513\n",
       "Deletion                      213368\n",
       "Duplication                    98427\n",
       "Microsatellite                 55030\n",
       "copy number loss               37426\n",
       "copy number gain               36802\n",
       "Indel                          23738\n",
       "Insertion                      19472\n",
       "Inversion                       2219\n",
       "Variation                        852\n",
       "Translocation                    338\n",
       "protein only                      95\n",
       "Complex                           79\n",
       "fusion                             6\n",
       "Tandem duplication                 1\n",
       "Name: Type, dtype: int64"
      ]
     },
     "execution_count": 12,
     "metadata": {},
     "output_type": "execute_result"
    }
   ],
   "source": [
    "clinvar=pandas.read_csv('clinvar/variant_summary_2023-10.txt',sep='\\t',low_memory=False)\n",
    "clinvar.loc[:,'Type'].value_counts()"
   ]
  },
  {
   "cell_type": "code",
   "execution_count": 13,
   "metadata": {},
   "outputs": [],
   "source": [
    "clinvar=clinvar.loc[clinvar['Assembly']==\"GRCh37\",:]\n",
    "clinvar=clinvar.loc[((clinvar['Type']==\"single nucleotide variant\") | (clinvar['Type']==\"Deletion\") | (clinvar['Type']==\"Duplication\") | (clinvar['Type']==\"Microsatellite\") | (clinvar['Type']==\"Indel\") | (clinvar['Type']==\"Insertion\")),:]\n",
    "benign=clinvar.loc[((clinvar['ClinicalSignificance']==\"Benign\") | (clinvar['ClinicalSignificance']==\"Likely benign\") | (clinvar['ClinicalSignificance']==\"Benign/Likely benign\")),:]\n",
    "benign=benign.loc[~(benign['ReviewStatus']==\"no assertion criteria provided\"),['Chromosome','PositionVCF','ReferenceAlleleVCF','AlternateAlleleVCF']]\n",
    "benign=benign.rename(columns={'PositionVCF':'Position','ReferenceAlleleVCF':'ReferenceAllele','AlternateAlleleVCF':'AlternateAllele'}).sort_values(by=['Chromosome','Position','ReferenceAllele','AlternateAllele'])\n",
    "benign.to_csv('clinvar/clinvar_202310_oneToFourStarBenignVariants_locations.txt',sep='\\t',index=False)\n",
    "clinvar=clinvar.loc[((clinvar['ClinicalSignificance']==\"Pathogenic\") | (clinvar['ClinicalSignificance']==\"Likely pathogenic\") | (clinvar['ClinicalSignificance']==\"Pathogenic/Likely pathogenic\")),:]\n",
    "clinvar=clinvar.loc[~(clinvar['OriginSimple']==\"somatic\"),:]\n",
    "clinvar=clinvar.loc[clinvar['PhenotypeIDS'].str.contains(\"OMIM:\"),:]"
   ]
  },
  {
   "cell_type": "code",
   "execution_count": 4,
   "metadata": {},
   "outputs": [],
   "source": [
    "# get the relationships between clinvar allele IDs and omim phenotype ids \n",
    "clinvarOmimPheno=pandas.DataFrame(clinvar['PhenotypeIDS'].str.split(';').tolist(), index=clinvar['AlleleID'].values).stack()\n",
    "clinvarOmimPheno=clinvarOmimPheno[clinvarOmimPheno.str.contains(\"OMIM:\")]\n",
    "clinvarAlleleIDs=clinvarOmimPheno.index.get_level_values(0)\n",
    "clinvarAlleleOmimIDs=clinvarOmimPheno.str.split(\"OMIM:\").str[1].str.split(\",\").str[0].str.strip()\n",
    "clinvarAllelesToOmimIDs=pandas.DataFrame({'clinvarAlleleID':clinvarAlleleIDs,'phenoMIM':clinvarAlleleOmimIDs.values})"
   ]
  },
  {
   "cell_type": "code",
   "execution_count": 5,
   "metadata": {},
   "outputs": [
    {
     "data": {
      "text/plain": [
       "criteria provided, single submitter                     59536\n",
       "criteria provided, multiple submitters, no conflicts    24712\n",
       "no assertion criteria provided                          18453\n",
       "reviewed by expert panel                                 1903\n",
       "practice guideline                                          5\n",
       "Name: ReviewStatus, dtype: int64"
      ]
     },
     "execution_count": 5,
     "metadata": {},
     "output_type": "execute_result"
    }
   ],
   "source": [
    "# select down to just the allele IDs for which we have at least one inheritance pattern in omim\n",
    "clinvarAllelesWithInheritance=clinvarAllelesToOmimIDs.merge(inheritanceMap,how='inner',on='phenoMIM')\n",
    "# select down to just the variants without conflicts in the inheritance\n",
    "clinvarAllelesWithInheritance2=clinvarAllelesWithInheritance.drop_duplicates(subset=['clinvarAlleleID','inheritance'],keep='first')\n",
    "clinvarAllelesWithInheritance3=clinvarAllelesWithInheritance2.drop_duplicates(subset='clinvarAlleleID',keep=False)\n",
    "# get the original data on the alleles with omim inheritance\n",
    "clinvar2=clinvar.merge(clinvarAllelesWithInheritance3,how='inner',left_on=['AlleleID'],right_on=['clinvarAlleleID'])\n",
    "clinvar2.loc[:,'ReviewStatus'].value_counts()"
   ]
  },
  {
   "cell_type": "code",
   "execution_count": 6,
   "metadata": {},
   "outputs": [
    {
     "data": {
      "text/plain": [
       "51351"
      ]
     },
     "execution_count": 6,
     "metadata": {},
     "output_type": "execute_result"
    }
   ],
   "source": [
    "clinvar3=clinvar2.loc[~(clinvar2['ReviewStatus']==\"no assertion criteria provided\"),:]\n",
    "len(clinvar3.loc[clinvar3['inheritance']=='Autosomal recessive',:]) # this is the number of recessive variants we have now (but this includes coding and noncoding)"
   ]
  },
  {
   "cell_type": "code",
   "execution_count": 7,
   "metadata": {},
   "outputs": [
    {
     "data": {
      "text/plain": [
       "34805"
      ]
     },
     "execution_count": 7,
     "metadata": {},
     "output_type": "execute_result"
    }
   ],
   "source": [
    "len(clinvar3.loc[clinvar3['inheritance']=='Autosomal dominant',:]) # this is the number of dominant variants we have now (but this includes coding and noncoding)"
   ]
  },
  {
   "cell_type": "code",
   "execution_count": 8,
   "metadata": {},
   "outputs": [],
   "source": [
    "clinvar3AR=clinvar3.loc[clinvar3['inheritance']=='Autosomal recessive',['Chromosome','PositionVCF','ReferenceAlleleVCF','AlternateAlleleVCF']]\n",
    "clinvar3AD=clinvar3.loc[clinvar3['inheritance']=='Autosomal dominant',['Chromosome','PositionVCF','ReferenceAlleleVCF','AlternateAlleleVCF']]\n",
    "clinvar3AR=clinvar3AR.rename(columns={'PositionVCF':'Position','ReferenceAlleleVCF':'ReferenceAllele','AlternateAlleleVCF':'AlternateAllele'}).sort_values(by=['Chromosome','Position','ReferenceAllele','AlternateAllele'])\n",
    "clinvar3AD=clinvar3AD.rename(columns={'PositionVCF':'Position','ReferenceAlleleVCF':'ReferenceAllele','AlternateAlleleVCF':'AlternateAllele'}).sort_values(by=['Chromosome','Position','ReferenceAllele','AlternateAllele'])\n",
    "clinvar3AR=clinvar3AR.loc[clinvar3AR['Position']!=-1,:]\n",
    "clinvar3AD=clinvar3AD.loc[clinvar3AD['Position']!=-1,:]\n",
    "clinvar3AR.to_csv('clinvar/clinvar_202310_oneToFourStarPathogenicVariants_autosomalRecessive_locations.txt',sep='\\t',index=False)\n",
    "clinvar3AD.to_csv('clinvar/clinvar_202310_oneToFourStarPathogenicVariants_autosomalDominant_locations.txt',sep='\\t',index=False)\n"
   ]
  },
  {
   "cell_type": "markdown",
   "metadata": {},
   "source": [
    "# Process Clinvar Variants with Annovar"
   ]
  },
  {
   "cell_type": "code",
   "execution_count": 14,
   "metadata": {},
   "outputs": [],
   "source": [
    "import pandas\n",
    "AD202101=pandas.read_csv('clinvar/clinvar_202101_oneToFourStarPathogenicVariants_autosomalDominant_locations.txt',sep='\\t',low_memory=False)\n",
    "AD202201=pandas.read_csv('clinvar/clinvar_202201_oneToFourStarPathogenicVariants_autosomalDominant_locations.txt',sep='\\t',low_memory=False)\n",
    "AD202301=pandas.read_csv('clinvar/clinvar_202301_oneToFourStarPathogenicVariants_autosomalDominant_locations.txt',sep='\\t',low_memory=False)\n",
    "AD202310=pandas.read_csv('clinvar/clinvar_202310_oneToFourStarPathogenicVariants_autosomalDominant_locations.txt',sep='\\t',low_memory=False)\n",
    "\n",
    "AD202310=AD202310.merge(AD202301,how='left',on=['Chromosome','Position','ReferenceAllele','AlternateAllele'],indicator=True)\n",
    "AD202310=AD202310.loc[AD202310['_merge']=='left_only',['Chromosome','Position','ReferenceAllele','AlternateAllele']].reset_index(drop=True)\n",
    "AD202310.to_csv('clinvar/clinvar_202310_oneToFourStarPathogenicVariants_autosomalDominant_locations_v2.txt',sep='\\t',index=False)\n",
    "\n",
    "AD202301=AD202301.merge(AD202201,how='left',on=['Chromosome','Position','ReferenceAllele','AlternateAllele'],indicator=True)\n",
    "AD202301=AD202301.loc[AD202301['_merge']=='left_only',['Chromosome','Position','ReferenceAllele','AlternateAllele']].reset_index(drop=True)\n",
    "AD202301.to_csv('clinvar/clinvar_202301_oneToFourStarPathogenicVariants_autosomalDominant_locations_v2.txt',sep='\\t',index=False)\n",
    "\n",
    "AD202201=AD202201.merge(AD202101,how='left',on=['Chromosome','Position','ReferenceAllele','AlternateAllele'],indicator=True)\n",
    "AD202201=AD202201.loc[AD202201['_merge']=='left_only',['Chromosome','Position','ReferenceAllele','AlternateAllele']].reset_index(drop=True)\n",
    "AD202201.to_csv('clinvar/clinvar_202201_oneToFourStarPathogenicVariants_autosomalDominant_locations_v2.txt',sep='\\t',index=False)\n",
    "\n",
    "AR202101=pandas.read_csv('clinvar/clinvar_202101_oneToFourStarPathogenicVariants_autosomalRecessive_locations.txt',sep='\\t',low_memory=False)\n",
    "AR202201=pandas.read_csv('clinvar/clinvar_202201_oneToFourStarPathogenicVariants_autosomalRecessive_locations.txt',sep='\\t',low_memory=False)\n",
    "AR202301=pandas.read_csv('clinvar/clinvar_202301_oneToFourStarPathogenicVariants_autosomalRecessive_locations.txt',sep='\\t',low_memory=False)\n",
    "AR202310=pandas.read_csv('clinvar/clinvar_202310_oneToFourStarPathogenicVariants_autosomalRecessive_locations.txt',sep='\\t',low_memory=False)\n",
    "\n",
    "\n",
    "AR202310=AR202310.merge(AR202301,how='left',on=['Chromosome','Position','ReferenceAllele','AlternateAllele'],indicator=True)\n",
    "AR202310=AR202310.loc[AR202310['_merge']=='left_only',['Chromosome','Position','ReferenceAllele','AlternateAllele']].reset_index(drop=True)\n",
    "AR202310.to_csv('clinvar/clinvar_202310_oneToFourStarPathogenicVariants_autosomalRecessive_locations_v2.txt',sep='\\t',index=False)\n",
    "\n",
    "AR202301=AR202301.merge(AR202201,how='left',on=['Chromosome','Position','ReferenceAllele','AlternateAllele'],indicator=True)\n",
    "AR202301=AR202301.loc[AR202301['_merge']=='left_only',['Chromosome','Position','ReferenceAllele','AlternateAllele']].reset_index(drop=True)\n",
    "AR202301.to_csv('clinvar/clinvar_202301_oneToFourStarPathogenicVariants_autosomalRecessive_locations_v2.txt',sep='\\t',index=False)\n",
    "\n",
    "AR202201=AR202201.merge(AR202101,how='left',on=['Chromosome','Position','ReferenceAllele','AlternateAllele'],indicator=True)\n",
    "AR202201=AR202201.loc[AR202201['_merge']=='left_only',['Chromosome','Position','ReferenceAllele','AlternateAllele']].reset_index(drop=True)\n",
    "AR202201.to_csv('clinvar/clinvar_202201_oneToFourStarPathogenicVariants_autosomalRecessive_locations_v2.txt',sep='\\t',index=False)\n"
   ]
  },
  {
   "cell_type": "code",
   "execution_count": null,
   "metadata": {
    "tags": []
   },
   "outputs": [],
   "source": [
    "# turn the files into VCFs and process with Annovar. I couldn't do this with the magics here, and instead had to run this block of code manually on the command line. \n",
    "%%bash \n",
    "cd clinvar\n",
    "dos2unix clinvar_20*_locations_v2.txt\n",
    "\n",
    "tail -n +2 clinvar_202201_oneToFourStarPathogenicVariants_autosomalRecessive_locations_v2.txt | awk -F'\\t' -v OFS='\\t' '{print $1,$2,\".\",$3,$4,\".\",\"PASS\",\".\",\"GT\",\"0/1\"}' | cat ../header.vcf - > clinvar_202201_pathogenic_AR.vcf\n",
    "tail -n +2 clinvar_202201_oneToFourStarPathogenicVariants_autosomalDominant_locations_v2.txt | awk -F'\\t' -v OFS='\\t' '{print $1,$2,\".\",$3,$4,\".\",\"PASS\",\".\",\"GT\",\"0/1\"}' | cat ../header.vcf - > clinvar_202201_pathogenic_AD.vcf\n",
    "tail -n +2 clinvar_202301_oneToFourStarPathogenicVariants_autosomalRecessive_locations_v2.txt | awk -F'\\t' -v OFS='\\t' '{print $1,$2,\".\",$3,$4,\".\",\"PASS\",\".\",\"GT\",\"0/1\"}' | cat ../header.vcf - > clinvar_202301_pathogenic_AR.vcf\n",
    "tail -n +2 clinvar_202301_oneToFourStarPathogenicVariants_autosomalDominant_locations_v2.txt | awk -F'\\t' -v OFS='\\t' '{print $1,$2,\".\",$3,$4,\".\",\"PASS\",\".\",\"GT\",\"0/1\"}' | cat ../header.vcf - > clinvar_202301_pathogenic_AD.vcf\n",
    "tail -n +2 clinvar_202310_oneToFourStarPathogenicVariants_autosomalRecessive_locations_v2.txt | awk -F'\\t' -v OFS='\\t' '{print $1,$2,\".\",$3,$4,\".\",\"PASS\",\".\",\"GT\",\"0/1\"}' | cat ../header.vcf - > clinvar_202310_pathogenic_AR.vcf\n",
    "tail -n +2 clinvar_202310_oneToFourStarPathogenicVariants_autosomalDominant_locations_v2.txt | awk -F'\\t' -v OFS='\\t' '{print $1,$2,\".\",$3,$4,\".\",\"PASS\",\".\",\"GT\",\"0/1\"}' | cat ../header.vcf - > clinvar_202310_pathogenic_AD.vcf\n",
    "\n",
    "../annovar/convert2annovar.pl -format vcf4 --keepindelref clinvar_202201_pathogenic_AR.vcf > clinvar_202201_pathogenic_AR.avinput\n",
    "../annovar/annotate_variation.pl -dbtype wgEncodeGencodeBasicV33lift37 -buildver hg19 --exonicsplicing clinvar_202201_pathogenic_AR.avinput ../annovar/humandb/\n",
    "../annovar/coding_change.pl clinvar_202201_pathogenic_AR.avinput.exonic_variant_function ../annovar/humandb/hg19_wgEncodeGencodeBasicV33lift37.txt ../annovar/humandb/hg19_wgEncodeGencodeBasicV33lift37Mrna.fa --includesnp --onlyAltering --alltranscript > clinvar_202201_pathogenic_AR.coding_changes.txt\n",
    "\n",
    "../annovar/convert2annovar.pl -format vcf4 --keepindelref clinvar_202201_pathogenic_AD.vcf > clinvar_202201_pathogenic_AD.avinput\n",
    "../annovar/annotate_variation.pl -dbtype wgEncodeGencodeBasicV33lift37 -buildver hg19 --exonicsplicing clinvar_202201_pathogenic_AD.avinput ../annovar/humandb/\n",
    "../annovar/coding_change.pl clinvar_202201_pathogenic_AD.avinput.exonic_variant_function ../annovar/humandb/hg19_wgEncodeGencodeBasicV33lift37.txt ../annovar/humandb/hg19_wgEncodeGencodeBasicV33lift37Mrna.fa --includesnp --onlyAltering --alltranscript > clinvar_202201_pathogenic_AD.coding_changes.txt\n",
    "\n",
    "../annovar/convert2annovar.pl -format vcf4 --keepindelref clinvar_202301_pathogenic_AR.vcf > clinvar_202301_pathogenic_AR.avinput\n",
    "../annovar/annotate_variation.pl -dbtype wgEncodeGencodeBasicV33lift37 -buildver hg19 --exonicsplicing clinvar_202301_pathogenic_AR.avinput ../annovar/humandb/\n",
    "../annovar/coding_change.pl clinvar_202301_pathogenic_AR.avinput.exonic_variant_function ../annovar/humandb/hg19_wgEncodeGencodeBasicV33lift37.txt ../annovar/humandb/hg19_wgEncodeGencodeBasicV33lift37Mrna.fa --includesnp --onlyAltering --alltranscript > clinvar_202301_pathogenic_AR.coding_changes.txt\n",
    "\n",
    "../annovar/convert2annovar.pl -format vcf4 --keepindelref clinvar_202301_pathogenic_AD.vcf > clinvar_202301_pathogenic_AD.avinput\n",
    "../annovar/annotate_variation.pl -dbtype wgEncodeGencodeBasicV33lift37 -buildver hg19 --exonicsplicing clinvar_202301_pathogenic_AD.avinput ../annovar/humandb/\n",
    "../annovar/coding_change.pl clinvar_202301_pathogenic_AD.avinput.exonic_variant_function ../annovar/humandb/hg19_wgEncodeGencodeBasicV33lift37.txt ../annovar/humandb/hg19_wgEncodeGencodeBasicV33lift37Mrna.fa --includesnp --onlyAltering --alltranscript > clinvar_202301_pathogenic_AD.coding_changes.txt\n",
    "\n",
    "../annovar/convert2annovar.pl -format vcf4 --keepindelref clinvar_202310_pathogenic_AR.vcf > clinvar_202310_pathogenic_AR.avinput\n",
    "../annovar/annotate_variation.pl -dbtype wgEncodeGencodeBasicV33lift37 -buildver hg19 --exonicsplicing clinvar_202310_pathogenic_AR.avinput ../annovar/humandb/\n",
    "../annovar/coding_change.pl clinvar_202310_pathogenic_AR.avinput.exonic_variant_function ../annovar/humandb/hg19_wgEncodeGencodeBasicV33lift37.txt ../annovar/humandb/hg19_wgEncodeGencodeBasicV33lift37Mrna.fa --includesnp --onlyAltering --alltranscript > clinvar_202310_pathogenic_AR.coding_changes.txt\n",
    "\n",
    "../annovar/convert2annovar.pl -format vcf4 --keepindelref clinvar_202310_pathogenic_AD.vcf > clinvar_202310_pathogenic_AD.avinput\n",
    "../annovar/annotate_variation.pl -dbtype wgEncodeGencodeBasicV33lift37 -buildver hg19 --exonicsplicing clinvar_202310_pathogenic_AD.avinput ../annovar/humandb/\n",
    "../annovar/coding_change.pl clinvar_202310_pathogenic_AD.avinput.exonic_variant_function ../annovar/humandb/hg19_wgEncodeGencodeBasicV33lift37.txt ../annovar/humandb/hg19_wgEncodeGencodeBasicV33lift37Mrna.fa --includesnp --onlyAltering --alltranscript > clinvar_202310_pathogenic_AD.coding_changes.txt\n"
   ]
  },
  {
   "cell_type": "code",
   "execution_count": null,
   "metadata": {},
   "outputs": [],
   "source": [
    "%%bash\n",
    "\n",
    "# re-make locations files\n",
    "grep -v '^#' clinvar_202201_pathogenic_AR.vcf | cut -f 1,2,4,5 > clinvar_202201_pathogenic_AR_locations.txt\n",
    "grep -v '^#' clinvar_202301_pathogenic_AR.vcf | cut -f 1,2,4,5 > clinvar_202301_pathogenic_AR_locations.txt\n",
    "grep -v '^#' clinvar_202310_pathogenic_AR.vcf | cut -f 1,2,4,5 > clinvar_202310_pathogenic_AR_locations.txt\n",
    "grep -v '^#' clinvar_202201_pathogenic_AD.vcf | cut -f 1,2,4,5 > clinvar_202201_pathogenic_AD_locations.txt\n",
    "grep -v '^#' clinvar_202301_pathogenic_AD.vcf | cut -f 1,2,4,5 > clinvar_202301_pathogenic_AD_locations.txt\n",
    "grep -v '^#' clinvar_202310_pathogenic_AD.vcf | cut -f 1,2,4,5 > clinvar_202310_pathogenic_AD_locations.txt\n",
    "\n",
    "cd ../\n",
    "\n",
    "# groom annovar outputs\n",
    "python Maverick/InferenceScripts/groomAnnovarOutput.py --inputBase=testSets/clinvar_202201_pathogenic_AR\n",
    "python Maverick/InferenceScripts/groomAnnovarOutput.py --inputBase=testSets/clinvar_202201_pathogenic_AD\n",
    "python Maverick/InferenceScripts/groomAnnovarOutput.py --inputBase=testSets/clinvar_202301_pathogenic_AR\n",
    "python Maverick/InferenceScripts/groomAnnovarOutput.py --inputBase=testSets/clinvar_202301_pathogenic_AD\n",
    "python Maverick/InferenceScripts/groomAnnovarOutput.py --inputBase=testSets/clinvar_202310_pathogenic_AR\n",
    "python Maverick/InferenceScripts/groomAnnovarOutput.py --inputBase=testSets/clinvar_202310_pathogenic_AD\n",
    "\n",
    "# annotate variants\n",
    "python Maverick/InferenceScripts/annotateVariants.py --inputBase=testSets/clinvar_202201_pathogenic_AR\n",
    "python Maverick/InferenceScripts/annotateVariants.py --inputBase=testSets/clinvar_202201_pathogenic_AD\n",
    "python Maverick/InferenceScripts/annotateVariants.py --inputBase=testSets/clinvar_202301_pathogenic_AR\n",
    "python Maverick/InferenceScripts/annotateVariants.py --inputBase=testSets/clinvar_202301_pathogenic_AD\n",
    "python Maverick/InferenceScripts/annotateVariants.py --inputBase=testSets/clinvar_202310_pathogenic_AR\n",
    "python Maverick/InferenceScripts/annotateVariants.py --inputBase=testSets/clinvar_202310_pathogenic_AD\n"
   ]
  },
  {
   "cell_type": "markdown",
   "metadata": {},
   "source": [
    "# Divide into testing sets"
   ]
  },
  {
   "cell_type": "code",
   "execution_count": 1,
   "metadata": {},
   "outputs": [],
   "source": [
    "# Divide groups into previously-known and novel disease genes sets\n",
    "import pandas\n",
    "clinvar2021=pandas.read_csv('clinvar/variant_summary_2021-01.txt',sep='\\t',low_memory=False)\n",
    "clinvar2021=clinvar2021.loc[((clinvar2021['ClinicalSignificance']==\"Pathogenic\") | (clinvar2021['ClinicalSignificance']==\"Likely pathogenic\") | (clinvar2021['ClinicalSignificance']==\"Pathogenic/Likely pathogenic\")),:]\n",
    "clinvar2021=clinvar2021.loc[~(clinvar2021['OriginSimple']==\"somatic\"),:]\n",
    "clinvar2021=clinvar2021.loc[((clinvar2021['Type']==\"single nucleotide variant\") | (clinvar2021['Type']==\"Deletion\") | (clinvar2021['Type']==\"Duplication\") | (clinvar2021['Type']==\"Microsatellite\") | (clinvar2021['Type']==\"Indel\") | (clinvar2021['Type']==\"Insertion\")),:]\n",
    "clinvar2021DiseaseGenes=clinvar2021.loc[:,'GeneSymbol'].drop_duplicates(keep='first')\n",
    "\n",
    "clinvar2022=pandas.read_csv('clinvar/variant_summary_2022-01.txt',sep='\\t',low_memory=False)\n",
    "clinvar2022=clinvar2022.loc[((clinvar2022['ClinicalSignificance']==\"Pathogenic\") | (clinvar2021['ClinicalSignificance']==\"Likely pathogenic\") | (clinvar2021['ClinicalSignificance']==\"Pathogenic/Likely pathogenic\")),:]\n",
    "clinvar2022=clinvar2022.loc[~(clinvar2022['OriginSimple']==\"somatic\"),:]\n",
    "clinvar2022=clinvar2022.loc[((clinvar2022['Type']==\"single nucleotide variant\") | (clinvar2022['Type']==\"Deletion\") | (clinvar2022['Type']==\"Duplication\") | (clinvar2022['Type']==\"Microsatellite\") | (clinvar2022['Type']==\"Indel\") | (clinvar2022['Type']==\"Insertion\")),:]\n",
    "clinvar2022DiseaseGenes=clinvar2022.loc[:,'GeneSymbol'].drop_duplicates(keep='first')\n",
    "\n",
    "clinvar2023=pandas.read_csv('clinvar/variant_summary_2023-01.txt',sep='\\t',low_memory=False)\n",
    "clinvar2023=clinvar2023.loc[((clinvar2023['ClinicalSignificance']==\"Pathogenic\") | (clinvar2021['ClinicalSignificance']==\"Likely pathogenic\") | (clinvar2021['ClinicalSignificance']==\"Pathogenic/Likely pathogenic\")),:]\n",
    "clinvar2023=clinvar2023.loc[~(clinvar2023['OriginSimple']==\"somatic\"),:]\n",
    "clinvar2023=clinvar2023.loc[((clinvar2023['Type']==\"single nucleotide variant\") | (clinvar2023['Type']==\"Deletion\") | (clinvar2023['Type']==\"Duplication\") | (clinvar2023['Type']==\"Microsatellite\") | (clinvar2023['Type']==\"Indel\") | (clinvar2023['Type']==\"Insertion\")),:]\n",
    "clinvar2023DiseaseGenes=clinvar2023.loc[:,'GeneSymbol'].drop_duplicates(keep='first')\n"
   ]
  },
  {
   "cell_type": "code",
   "execution_count": 2,
   "metadata": {},
   "outputs": [
    {
     "data": {
      "text/plain": [
       "0               AP5Z1\n",
       "6             FOXRED1\n",
       "20                HFE\n",
       "34              WDR35\n",
       "42             ABHD12\n",
       "              ...    \n",
       "3246778    FTH1;BEST1\n",
       "3251168         NPTX1\n",
       "3251312       C3orf52\n",
       "3251323         TNNC2\n",
       "3251330          BUB1\n",
       "Name: GeneSymbol, Length: 5880, dtype: object"
      ]
     },
     "execution_count": 2,
     "metadata": {},
     "output_type": "execute_result"
    }
   ],
   "source": [
    "clinvar2023DiseaseGenes"
   ]
  },
  {
   "cell_type": "code",
   "execution_count": 3,
   "metadata": {},
   "outputs": [
    {
     "data": {
      "text/plain": [
       "0            AP5Z1\n",
       "6          FOXRED1\n",
       "18             HFE\n",
       "34           WDR35\n",
       "42          ABHD12\n",
       "            ...   \n",
       "1656978     VPS35L\n",
       "1656986      IKZF5\n",
       "1656998     PRKACB\n",
       "1657006     PRKACA\n",
       "1662441     CFAP58\n",
       "Name: GeneSymbol, Length: 5138, dtype: object"
      ]
     },
     "execution_count": 3,
     "metadata": {},
     "output_type": "execute_result"
    }
   ],
   "source": [
    "clinvar2021DiseaseGenes"
   ]
  },
  {
   "cell_type": "code",
   "execution_count": 4,
   "metadata": {},
   "outputs": [],
   "source": [
    "AR2022=pandas.read_csv('clinvar/clinvar_202201_pathogenic_AR.annotated.txt',sep='\\t',low_memory=False)\n",
    "AR2022Known=AR2022.loc[AR2022['geneName'].isin(clinvar2021DiseaseGenes.values),:].reset_index(drop=True)\n",
    "AR2022Novel=AR2022.loc[~(AR2022['geneName'].isin(clinvar2021DiseaseGenes.values)),:].reset_index(drop=True)\n",
    "AD2022=pandas.read_csv('clinvar/clinvar_202201_pathogenic_AD.annotated.txt',sep='\\t',low_memory=False)\n",
    "AD2022Known=AD2022.loc[AD2022['geneName'].isin(clinvar2021DiseaseGenes.values),:].reset_index(drop=True)\n",
    "AD2022Novel=AD2022.loc[~(AD2022['geneName'].isin(clinvar2021DiseaseGenes.values)),:].reset_index(drop=True)\n",
    "AR2022Known.to_csv('testSets/2021_autosomalRecessive_knownDiseaseGenes.txt',sep='\\t',index=False)\n",
    "AR2022Novel.to_csv('testSets/2021_autosomalRecessive_novelDiseaseGenes.txt',sep='\\t',index=False)\n",
    "AD2022Known.to_csv('testSets/2021_autosomalDominant_knownDiseaseGenes.txt',sep='\\t',index=False)\n",
    "AD2022Novel.to_csv('testSets/2021_autosomalDominant_novelDiseaseGenes.txt',sep='\\t',index=False)\n",
    "\n",
    "AR2023=pandas.read_csv('clinvar/clinvar_202301_pathogenic_AR.annotated.txt',sep='\\t',low_memory=False)\n",
    "AR2023Known=AR2023.loc[AR2023['geneName'].isin(clinvar2022DiseaseGenes.values),:].reset_index(drop=True)\n",
    "AR2023Novel=AR2023.loc[~(AR2023['geneName'].isin(clinvar2022DiseaseGenes.values)),:].reset_index(drop=True)\n",
    "AD2023=pandas.read_csv('clinvar/clinvar_202301_pathogenic_AD.annotated.txt',sep='\\t',low_memory=False)\n",
    "AD2023Known=AD2023.loc[AD2023['geneName'].isin(clinvar2022DiseaseGenes.values),:].reset_index(drop=True)\n",
    "AD2023Novel=AD2023.loc[~(AD2023['geneName'].isin(clinvar2022DiseaseGenes.values)),:].reset_index(drop=True)\n",
    "AR2023Known.to_csv('testSets/2022_autosomalRecessive_knownDiseaseGenes.txt',sep='\\t',index=False)\n",
    "AR2023Novel.to_csv('testSets/2022_autosomalRecessive_novelDiseaseGenes.txt',sep='\\t',index=False)\n",
    "AD2023Known.to_csv('testSets/2022_autosomalDominant_knownDiseaseGenes.txt',sep='\\t',index=False)\n",
    "AD2023Novel.to_csv('testSets/2022_autosomalDominant_novelDiseaseGenes.txt',sep='\\t',index=False)\n",
    "\n",
    "AR202310=pandas.read_csv('clinvar/clinvar_202310_pathogenic_AR.annotated.txt',sep='\\t',low_memory=False)\n",
    "AR202310Known=AR202310.loc[AR202310['geneName'].isin(clinvar2023DiseaseGenes.values),:].reset_index(drop=True)\n",
    "AR202310Novel=AR202310.loc[~(AR202310['geneName'].isin(clinvar2023DiseaseGenes.values)),:].reset_index(drop=True)\n",
    "AD202310=pandas.read_csv('clinvar/clinvar_202310_pathogenic_AD.annotated.txt',sep='\\t',low_memory=False)\n",
    "AD202310Known=AD202310.loc[AD202310['geneName'].isin(clinvar2023DiseaseGenes.values),:].reset_index(drop=True)\n",
    "AD202310Novel=AD202310.loc[~(AD202310['geneName'].isin(clinvar2023DiseaseGenes.values)),:].reset_index(drop=True)\n",
    "AR202310Known.to_csv('testSets/2023NineMonths_autosomalRecessive_knownDiseaseGenes.txt',sep='\\t',index=False)\n",
    "AR202310Novel.to_csv('testSets/2023NineMonths_autosomalRecessive_novelDiseaseGenes.txt',sep='\\t',index=False)\n",
    "AD202310Known.to_csv('testSets/2023NineMonths_autosomalDominant_knownDiseaseGenes.txt',sep='\\t',index=False)\n",
    "AD202310Novel.to_csv('testSets/2023NineMonths_autosomalDominant_novelDiseaseGenes.txt',sep='\\t',index=False)\n"
   ]
  },
  {
   "cell_type": "markdown",
   "metadata": {},
   "source": [
    "# Filter out entries that were zero star in earlier years and divide into test sets"
   ]
  },
  {
   "cell_type": "code",
   "execution_count": 8,
   "metadata": {},
   "outputs": [],
   "source": [
    "import pandas\n",
    "rec2021=pandas.read_csv('clinvar/clinvar_202101_oneToFourStarPathogenicVariants_autosomalDominant_locations.txt',sep='\\t',low_memory=False)\n",
    "dom2021=pandas.read_csv('clinvar/clinvar_202101_oneToFourStarPathogenicVariants_autosomalDominant_locations.txt',sep='\\t',low_memory=False)\n",
    "\n",
    "rec2022=pandas.read_csv('testSets/2022_autosomalRecessive_knownDiseaseGenes.txt',sep='\\t',low_memory=False)\n",
    "dom2022=pandas.read_csv('testSets/2022_autosomalDominant_knownDiseaseGenes.txt',sep='\\t',low_memory=False)\n",
    "\n",
    "rec2023=pandas.read_csv('testSets/2023NineMonths_autosomalRecessive_knownDiseaseGenes.txt',sep='\\t',low_memory=False)\n",
    "dom2023=pandas.read_csv('testSets/2023NineMonths_autosomalDominant_knownDiseaseGenes.txt',sep='\\t',low_memory=False)\n",
    "\n",
    "clinvar2020=pandas.read_csv('clinvar/variant_summary_2021-01.txt',sep='\\t',low_memory=False)\n",
    "clinvar2020=clinvar2020.loc[clinvar2020['Assembly']==\"GRCh37\",:]\n",
    "clinvar2020=clinvar2020.loc[((clinvar2020['Type']==\"single nucleotide variant\") | (clinvar2020['Type']==\"Deletion\") | (clinvar2020['Type']==\"Duplication\") | (clinvar2020['Type']==\"Microsatellite\") | (clinvar2020['Type']==\"Indel\") | (clinvar2020['Type']==\"Insertion\")),:]\n",
    "clinvar2020=clinvar2020.loc[((clinvar2020['ClinicalSignificance']==\"Pathogenic\") | (clinvar2020['ClinicalSignificance']==\"Likely pathogenic\") | (clinvar2020['ClinicalSignificance']==\"Pathogenic/Likely pathogenic\")),:]\n",
    "clinvar2020=clinvar2020.loc[~(clinvar2020['OriginSimple']==\"somatic\"),:]\n",
    "\n",
    "clinvar2021=pandas.read_csv('clinvar/variant_summary_2022-01.txt',sep='\\t',low_memory=False)\n",
    "clinvar2021=clinvar2021.loc[clinvar2021['Assembly']==\"GRCh37\",:]\n",
    "clinvar2021=clinvar2021.loc[((clinvar2021['Type']==\"single nucleotide variant\") | (clinvar2021['Type']==\"Deletion\") | (clinvar2021['Type']==\"Duplication\") | (clinvar2021['Type']==\"Microsatellite\") | (clinvar2021['Type']==\"Indel\") | (clinvar2021['Type']==\"Insertion\")),:]\n",
    "clinvar2021=clinvar2021.loc[((clinvar2021['ClinicalSignificance']==\"Pathogenic\") | (clinvar2021['ClinicalSignificance']==\"Likely pathogenic\") | (clinvar2021['ClinicalSignificance']==\"Pathogenic/Likely pathogenic\")),:]\n",
    "clinvar2021=clinvar2021.loc[~(clinvar2021['OriginSimple']==\"somatic\"),:]\n",
    "\n",
    "clinvar2022=pandas.read_csv('clinvar/variant_summary_2023-01.txt',sep='\\t',low_memory=False)\n",
    "clinvar2022=clinvar2022.loc[clinvar2022['Assembly']==\"GRCh37\",:]\n",
    "clinvar2022=clinvar2022.loc[((clinvar2022['Type']==\"single nucleotide variant\") | (clinvar2022['Type']==\"Deletion\") | (clinvar2022['Type']==\"Duplication\") | (clinvar2022['Type']==\"Microsatellite\") | (clinvar2022['Type']==\"Indel\") | (clinvar2022['Type']==\"Insertion\")),:]\n",
    "clinvar2022=clinvar2022.loc[((clinvar2022['ClinicalSignificance']==\"Pathogenic\") | (clinvar2022['ClinicalSignificance']==\"Likely pathogenic\") | (clinvar2022['ClinicalSignificance']==\"Pathogenic/Likely pathogenic\")),:]\n",
    "clinvar2022=clinvar2022.loc[~(clinvar2022['OriginSimple']==\"somatic\"),:]\n",
    "\n",
    "\n",
    "clinvar2020=clinvar2020.loc[:,['Chromosome','PositionVCF','ReferenceAlleleVCF','AlternateAlleleVCF']].rename(columns={'Chromosome':'hg19_chr','PositionVCF':'hg19_pos(1-based)','ReferenceAlleleVCF':'ref','AlternateAlleleVCF':'alt'})\n",
    "clinvar2021=clinvar2021.loc[:,['Chromosome','PositionVCF','ReferenceAlleleVCF','AlternateAlleleVCF']].rename(columns={'Chromosome':'hg19_chr','PositionVCF':'hg19_pos(1-based)','ReferenceAlleleVCF':'ref','AlternateAlleleVCF':'alt'})\n",
    "clinvar2022=clinvar2022.loc[:,['Chromosome','PositionVCF','ReferenceAlleleVCF','AlternateAlleleVCF']].rename(columns={'Chromosome':'hg19_chr','PositionVCF':'hg19_pos(1-based)','ReferenceAlleleVCF':'ref','AlternateAlleleVCF':'alt'})\n",
    "clinvar2020=clinvar2020.loc[~(clinvar2020['hg19_chr'].isin(['X','Y','MT'])),:]\n",
    "clinvar2020['hg19_chr']=clinvar2020.loc[:,'hg19_chr'].astype(int)\n",
    "clinvar2021=clinvar2021.loc[~(clinvar2021['hg19_chr'].isin(['X','Y','MT'])),:]\n",
    "clinvar2021['hg19_chr']=clinvar2021.loc[:,'hg19_chr'].astype(int)\n",
    "clinvar2022=clinvar2022.loc[~(clinvar2022['hg19_chr'].isin(['X','Y','MT'])),:]\n",
    "clinvar2022['hg19_chr']=clinvar2022.loc[:,'hg19_chr'].astype(int)\n",
    "\n",
    "rec2021=rec2021.merge(clinvar2020,how='left',on=['hg19_chr','hg19_pos(1-based)','ref','alt'],indicator=True)\n",
    "rec2021=rec2021.loc[rec2021['_merge']=='left_only',:].drop(columns='_merge').reset_index(drop=True)\n",
    "rec2021.to_csv('testSets/2021_autosomalRecessive_notInClinvarAtAllBefore2021.txt',sep='\\t',index=False)\n",
    "dom2021=dom2021.merge(clinvar2020,how='left',on=['hg19_chr','hg19_pos(1-based)','ref','alt'],indicator=True)\n",
    "dom2021=dom2021.loc[dom2021['_merge']=='left_only',:].drop(columns='_merge').reset_index(drop=True)\n",
    "dom2021.to_csv('testSets/2021_autosomalDominant_notInClinvarAtAllBefore2021.txt',sep='\\t',index=False)\n",
    "\n",
    "rec2022=rec2022.merge(clinvar2021,how='left',on=['hg19_chr','hg19_pos(1-based)','ref','alt'],indicator=True)\n",
    "rec2022=rec2022.loc[rec2022['_merge']=='left_only',:].drop(columns='_merge').reset_index(drop=True)\n",
    "rec2022.to_csv('testSets/2022_autosomalRecessive_notInClinvarAtAllBefore2022.txt',sep='\\t',index=False)\n",
    "dom2022=dom2022.merge(clinvar2021,how='left',on=['hg19_chr','hg19_pos(1-based)','ref','alt'],indicator=True)\n",
    "dom2022=dom2022.loc[dom2022['_merge']=='left_only',:].drop(columns='_merge').reset_index(drop=True)\n",
    "dom2022.to_csv('testSets/2022_autosomalDominant_notInClinvarAtAllBefore2022.txt',sep='\\t',index=False)\n",
    "\n",
    "rec2023=rec2023.merge(clinvar2021,how='left',on=['hg19_chr','hg19_pos(1-based)','ref','alt'],indicator=True)\n",
    "rec2023=rec2023.loc[rec2023['_merge']=='left_only',:].drop(columns='_merge').reset_index(drop=True)\n",
    "rec2023.to_csv('testSets/2023_autosomalRecessive_notInClinvarAtAllBefore2023.txt',sep='\\t',index=False)\n",
    "dom2023=dom2023.merge(clinvar2021,how='left',on=['hg19_chr','hg19_pos(1-based)','ref','alt'],indicator=True)\n",
    "dom2023=dom2023.loc[dom2023['_merge']=='left_only',:].drop(columns='_merge').reset_index(drop=True)\n",
    "dom2023.to_csv('testSets/2023_autosomalDominant_notInClinvarAtAllBefore2023.txt',sep='\\t',index=False)\n"
   ]
  },
  {
   "cell_type": "code",
   "execution_count": 3,
   "metadata": {},
   "outputs": [
    {
     "data": {
      "text/html": [
       "<div>\n",
       "<style scoped>\n",
       "    .dataframe tbody tr th:only-of-type {\n",
       "        vertical-align: middle;\n",
       "    }\n",
       "\n",
       "    .dataframe tbody tr th {\n",
       "        vertical-align: top;\n",
       "    }\n",
       "\n",
       "    .dataframe thead th {\n",
       "        text-align: right;\n",
       "    }\n",
       "</style>\n",
       "<table border=\"1\" class=\"dataframe\">\n",
       "  <thead>\n",
       "    <tr style=\"text-align: right;\">\n",
       "      <th></th>\n",
       "      <th>hg19_chr</th>\n",
       "      <th>hg19_pos(1-based)</th>\n",
       "      <th>ref</th>\n",
       "      <th>alt</th>\n",
       "    </tr>\n",
       "  </thead>\n",
       "  <tbody>\n",
       "    <tr>\n",
       "      <th>0</th>\n",
       "      <td>7</td>\n",
       "      <td>4820844</td>\n",
       "      <td>GGAT</td>\n",
       "      <td>TGCTGTAAACTGTAACTGTAAA</td>\n",
       "    </tr>\n",
       "    <tr>\n",
       "      <th>2</th>\n",
       "      <td>7</td>\n",
       "      <td>4827360</td>\n",
       "      <td>GCTGCTGGACCTGCC</td>\n",
       "      <td>G</td>\n",
       "    </tr>\n",
       "    <tr>\n",
       "      <th>6</th>\n",
       "      <td>11</td>\n",
       "      <td>126145284</td>\n",
       "      <td>C</td>\n",
       "      <td>T</td>\n",
       "    </tr>\n",
       "    <tr>\n",
       "      <th>8</th>\n",
       "      <td>11</td>\n",
       "      <td>126147412</td>\n",
       "      <td>A</td>\n",
       "      <td>G</td>\n",
       "    </tr>\n",
       "    <tr>\n",
       "      <th>18</th>\n",
       "      <td>6</td>\n",
       "      <td>26091306</td>\n",
       "      <td>T</td>\n",
       "      <td>C</td>\n",
       "    </tr>\n",
       "    <tr>\n",
       "      <th>...</th>\n",
       "      <td>...</td>\n",
       "      <td>...</td>\n",
       "      <td>...</td>\n",
       "      <td>...</td>\n",
       "    </tr>\n",
       "    <tr>\n",
       "      <th>1662441</th>\n",
       "      <td>10</td>\n",
       "      <td>106163539</td>\n",
       "      <td>C</td>\n",
       "      <td>T</td>\n",
       "    </tr>\n",
       "    <tr>\n",
       "      <th>1662444</th>\n",
       "      <td>10</td>\n",
       "      <td>106163493</td>\n",
       "      <td>GT</td>\n",
       "      <td>G</td>\n",
       "    </tr>\n",
       "    <tr>\n",
       "      <th>1662446</th>\n",
       "      <td>10</td>\n",
       "      <td>106159139</td>\n",
       "      <td>C</td>\n",
       "      <td>T</td>\n",
       "    </tr>\n",
       "    <tr>\n",
       "      <th>1662448</th>\n",
       "      <td>10</td>\n",
       "      <td>106207473</td>\n",
       "      <td>C</td>\n",
       "      <td>A</td>\n",
       "    </tr>\n",
       "    <tr>\n",
       "      <th>1662450</th>\n",
       "      <td>7</td>\n",
       "      <td>152357866</td>\n",
       "      <td>A</td>\n",
       "      <td>G</td>\n",
       "    </tr>\n",
       "  </tbody>\n",
       "</table>\n",
       "<p>133117 rows × 4 columns</p>\n",
       "</div>"
      ],
      "text/plain": [
       "        hg19_chr  hg19_pos(1-based)              ref                     alt\n",
       "0              7            4820844             GGAT  TGCTGTAAACTGTAACTGTAAA\n",
       "2              7            4827360  GCTGCTGGACCTGCC                       G\n",
       "6             11          126145284                C                       T\n",
       "8             11          126147412                A                       G\n",
       "18             6           26091306                T                       C\n",
       "...          ...                ...              ...                     ...\n",
       "1662441       10          106163539                C                       T\n",
       "1662444       10          106163493               GT                       G\n",
       "1662446       10          106159139                C                       T\n",
       "1662448       10          106207473                C                       A\n",
       "1662450        7          152357866                A                       G\n",
       "\n",
       "[133117 rows x 4 columns]"
      ]
     },
     "execution_count": 3,
     "metadata": {},
     "output_type": "execute_result"
    }
   ],
   "source": [
    "clinvar2020"
   ]
  },
  {
   "cell_type": "code",
   "execution_count": 5,
   "metadata": {},
   "outputs": [
    {
     "data": {
      "text/html": [
       "<div>\n",
       "<style scoped>\n",
       "    .dataframe tbody tr th:only-of-type {\n",
       "        vertical-align: middle;\n",
       "    }\n",
       "\n",
       "    .dataframe tbody tr th {\n",
       "        vertical-align: top;\n",
       "    }\n",
       "\n",
       "    .dataframe thead th {\n",
       "        text-align: right;\n",
       "    }\n",
       "</style>\n",
       "<table border=\"1\" class=\"dataframe\">\n",
       "  <thead>\n",
       "    <tr style=\"text-align: right;\">\n",
       "      <th></th>\n",
       "      <th>varType</th>\n",
       "      <th>hg19_chr</th>\n",
       "      <th>hg19_pos(1-based)</th>\n",
       "      <th>ref</th>\n",
       "      <th>alt</th>\n",
       "      <th>genotype</th>\n",
       "      <th>WildtypeSeq</th>\n",
       "      <th>AltSeq</th>\n",
       "      <th>ChangePos</th>\n",
       "      <th>TranscriptID</th>\n",
       "      <th>...</th>\n",
       "      <th>pRec</th>\n",
       "      <th>mis_z</th>\n",
       "      <th>lof_z</th>\n",
       "      <th>CCR</th>\n",
       "      <th>pext</th>\n",
       "      <th>gerp</th>\n",
       "      <th>GDI</th>\n",
       "      <th>RVIS_ExAC_0.1</th>\n",
       "      <th>RVIS_ExAC_0.05</th>\n",
       "      <th>RVIS_ExAC_0.01</th>\n",
       "    </tr>\n",
       "  </thead>\n",
       "  <tbody>\n",
       "    <tr>\n",
       "      <th>0</th>\n",
       "      <td>frameshift substitution</td>\n",
       "      <td>1</td>\n",
       "      <td>976074</td>\n",
       "      <td>G</td>\n",
       "      <td>GC</td>\n",
       "      <td>het</td>\n",
       "      <td>MAGRSHPGPLRPLLPLLVVAACVLPGAGGTCPERALERREEEANVV...</td>\n",
       "      <td>MAGRSHPGPLRPLLPLLVVAACVLPGAGGTCPERALERREEEANVV...</td>\n",
       "      <td>182</td>\n",
       "      <td>ENST00000379370.7_2</td>\n",
       "      <td>...</td>\n",
       "      <td>1.000000</td>\n",
       "      <td>0.22552</td>\n",
       "      <td>6.01430</td>\n",
       "      <td>13.523968</td>\n",
       "      <td>0.48112</td>\n",
       "      <td>3.60</td>\n",
       "      <td>1338.60140</td>\n",
       "      <td>93.93</td>\n",
       "      <td>85.02</td>\n",
       "      <td>97.10</td>\n",
       "    </tr>\n",
       "    <tr>\n",
       "      <th>1</th>\n",
       "      <td>stopgain</td>\n",
       "      <td>1</td>\n",
       "      <td>979491</td>\n",
       "      <td>G</td>\n",
       "      <td>T</td>\n",
       "      <td>het</td>\n",
       "      <td>MAGRSHPGPLRPLLPLLVVAACVLPGAGGTCPERALERREEEANVV...</td>\n",
       "      <td>MAGRSHPGPLRPLLPLLVVAACVLPGAGGTCPERALERREEEANVV...</td>\n",
       "      <td>668</td>\n",
       "      <td>ENST00000379370.7_2</td>\n",
       "      <td>...</td>\n",
       "      <td>1.000000</td>\n",
       "      <td>0.22552</td>\n",
       "      <td>6.01430</td>\n",
       "      <td>0.000000</td>\n",
       "      <td>0.48112</td>\n",
       "      <td>4.60</td>\n",
       "      <td>1338.60140</td>\n",
       "      <td>93.93</td>\n",
       "      <td>85.02</td>\n",
       "      <td>97.10</td>\n",
       "    </tr>\n",
       "    <tr>\n",
       "      <th>2</th>\n",
       "      <td>stopgain</td>\n",
       "      <td>1</td>\n",
       "      <td>983248</td>\n",
       "      <td>C</td>\n",
       "      <td>T</td>\n",
       "      <td>het</td>\n",
       "      <td>MAGRSHPGPLRPLLPLLVVAACVLPGAGGTCPERALERREEEANVV...</td>\n",
       "      <td>MAGRSHPGPLRPLLPLLVVAACVLPGAGGTCPERALERREEEANVV...</td>\n",
       "      <td>1242</td>\n",
       "      <td>ENST00000379370.7_2</td>\n",
       "      <td>...</td>\n",
       "      <td>1.000000</td>\n",
       "      <td>0.22552</td>\n",
       "      <td>6.01430</td>\n",
       "      <td>13.132544</td>\n",
       "      <td>0.48112</td>\n",
       "      <td>3.10</td>\n",
       "      <td>1338.60140</td>\n",
       "      <td>93.93</td>\n",
       "      <td>85.02</td>\n",
       "      <td>97.10</td>\n",
       "    </tr>\n",
       "    <tr>\n",
       "      <th>3</th>\n",
       "      <td>frameshift substitution</td>\n",
       "      <td>1</td>\n",
       "      <td>983612</td>\n",
       "      <td>G</td>\n",
       "      <td>GGCCCCCC</td>\n",
       "      <td>het</td>\n",
       "      <td>MAGRSHPGPLRPLLPLLVVAACVLPGAGGTCPERALERREEEANVV...</td>\n",
       "      <td>MAGRSHPGPLRPLLPLLVVAACVLPGAGGTCPERALERREEEANVV...</td>\n",
       "      <td>1327</td>\n",
       "      <td>ENST00000379370.7_2</td>\n",
       "      <td>...</td>\n",
       "      <td>1.000000</td>\n",
       "      <td>0.22552</td>\n",
       "      <td>6.01430</td>\n",
       "      <td>0.000000</td>\n",
       "      <td>0.48112</td>\n",
       "      <td>2.66</td>\n",
       "      <td>1338.60140</td>\n",
       "      <td>93.93</td>\n",
       "      <td>85.02</td>\n",
       "      <td>97.10</td>\n",
       "    </tr>\n",
       "    <tr>\n",
       "      <th>4</th>\n",
       "      <td>nonsynonymous SNV</td>\n",
       "      <td>1</td>\n",
       "      <td>1167659</td>\n",
       "      <td>A</td>\n",
       "      <td>G</td>\n",
       "      <td>het</td>\n",
       "      <td>MKLLRRAWRRRAALGLGTLALCGAALLYLARCAAEPGDPRAMSGRS...</td>\n",
       "      <td>VKLLRRAWRRRAALGLGTLALCGAALLYLARCAAEPGDPRAMSGRS...</td>\n",
       "      <td>1</td>\n",
       "      <td>ENST00000379198.5_4</td>\n",
       "      <td>...</td>\n",
       "      <td>0.779350</td>\n",
       "      <td>1.26080</td>\n",
       "      <td>0.93213</td>\n",
       "      <td>NaN</td>\n",
       "      <td>1.00000</td>\n",
       "      <td>2.56</td>\n",
       "      <td>720.15343</td>\n",
       "      <td>NaN</td>\n",
       "      <td>NaN</td>\n",
       "      <td>NaN</td>\n",
       "    </tr>\n",
       "    <tr>\n",
       "      <th>...</th>\n",
       "      <td>...</td>\n",
       "      <td>...</td>\n",
       "      <td>...</td>\n",
       "      <td>...</td>\n",
       "      <td>...</td>\n",
       "      <td>...</td>\n",
       "      <td>...</td>\n",
       "      <td>...</td>\n",
       "      <td>...</td>\n",
       "      <td>...</td>\n",
       "      <td>...</td>\n",
       "      <td>...</td>\n",
       "      <td>...</td>\n",
       "      <td>...</td>\n",
       "      <td>...</td>\n",
       "      <td>...</td>\n",
       "      <td>...</td>\n",
       "      <td>...</td>\n",
       "      <td>...</td>\n",
       "      <td>...</td>\n",
       "      <td>...</td>\n",
       "    </tr>\n",
       "    <tr>\n",
       "      <th>4842</th>\n",
       "      <td>nonsynonymous SNV</td>\n",
       "      <td>22</td>\n",
       "      <td>51065458</td>\n",
       "      <td>C</td>\n",
       "      <td>G</td>\n",
       "      <td>het</td>\n",
       "      <td>MSMGAPRSLLLALAAGLAVARPPNIVLIFADDLGYGDLGCYGHPSS...</td>\n",
       "      <td>MSMGAPRSLLLALAAGLAVARPPNIVLIFADDLGYGDLGCYGHPSS...</td>\n",
       "      <td>163</td>\n",
       "      <td>ENST00000216124.10_3</td>\n",
       "      <td>...</td>\n",
       "      <td>0.087995</td>\n",
       "      <td>0.38013</td>\n",
       "      <td>0.39925</td>\n",
       "      <td>26.399607</td>\n",
       "      <td>0.53845</td>\n",
       "      <td>5.21</td>\n",
       "      <td>3502.02917</td>\n",
       "      <td>80.66</td>\n",
       "      <td>89.60</td>\n",
       "      <td>90.44</td>\n",
       "    </tr>\n",
       "    <tr>\n",
       "      <th>4843</th>\n",
       "      <td>nonsynonymous SNV</td>\n",
       "      <td>22</td>\n",
       "      <td>51065721</td>\n",
       "      <td>A</td>\n",
       "      <td>G</td>\n",
       "      <td>het</td>\n",
       "      <td>MSMGAPRSLLLALAAGLAVARPPNIVLIFADDLGYGDLGCYGHPSS...</td>\n",
       "      <td>MSMGAPRSLLLALAAGLAVARPPNIVLIFADDLGYGDLGCYGHPSS...</td>\n",
       "      <td>113</td>\n",
       "      <td>ENST00000216124.10_3</td>\n",
       "      <td>...</td>\n",
       "      <td>0.087995</td>\n",
       "      <td>0.38013</td>\n",
       "      <td>0.39925</td>\n",
       "      <td>0.000000</td>\n",
       "      <td>0.53845</td>\n",
       "      <td>4.74</td>\n",
       "      <td>3502.02917</td>\n",
       "      <td>80.66</td>\n",
       "      <td>89.60</td>\n",
       "      <td>90.44</td>\n",
       "    </tr>\n",
       "    <tr>\n",
       "      <th>4844</th>\n",
       "      <td>nonsynonymous SNV</td>\n",
       "      <td>22</td>\n",
       "      <td>51065766</td>\n",
       "      <td>G</td>\n",
       "      <td>A</td>\n",
       "      <td>het</td>\n",
       "      <td>MSMGAPRSLLLALAAGLAVARPPNIVLIFADDLGYGDLGCYGHPSS...</td>\n",
       "      <td>MSMGAPRSLLLALAAGLAVARPPNIVLIFADDLGYGDLGCYGHPSS...</td>\n",
       "      <td>98</td>\n",
       "      <td>ENST00000216124.10_3</td>\n",
       "      <td>...</td>\n",
       "      <td>0.087995</td>\n",
       "      <td>0.38013</td>\n",
       "      <td>0.39925</td>\n",
       "      <td>0.000000</td>\n",
       "      <td>0.53845</td>\n",
       "      <td>4.96</td>\n",
       "      <td>3502.02917</td>\n",
       "      <td>80.66</td>\n",
       "      <td>89.60</td>\n",
       "      <td>90.44</td>\n",
       "    </tr>\n",
       "    <tr>\n",
       "      <th>4845</th>\n",
       "      <td>nonsynonymous SNV</td>\n",
       "      <td>22</td>\n",
       "      <td>51065796</td>\n",
       "      <td>C</td>\n",
       "      <td>T</td>\n",
       "      <td>het</td>\n",
       "      <td>MSMGAPRSLLLALAAGLAVARPPNIVLIFADDLGYGDLGCYGHPSS...</td>\n",
       "      <td>MSMGAPRSLLLALAAGLAVARPPNIVLIFADDLGYGDLGCYGHPSS...</td>\n",
       "      <td>88</td>\n",
       "      <td>ENST00000216124.10_3</td>\n",
       "      <td>...</td>\n",
       "      <td>0.087995</td>\n",
       "      <td>0.38013</td>\n",
       "      <td>0.39925</td>\n",
       "      <td>49.347366</td>\n",
       "      <td>0.53845</td>\n",
       "      <td>4.99</td>\n",
       "      <td>3502.02917</td>\n",
       "      <td>80.66</td>\n",
       "      <td>89.60</td>\n",
       "      <td>90.44</td>\n",
       "    </tr>\n",
       "    <tr>\n",
       "      <th>4846</th>\n",
       "      <td>nonsynonymous SNV</td>\n",
       "      <td>22</td>\n",
       "      <td>51066048</td>\n",
       "      <td>G</td>\n",
       "      <td>C</td>\n",
       "      <td>het</td>\n",
       "      <td>MSMGAPRSLLLALAAGLAVARPPNIVLIFADDLGYGDLGCYGHPSS...</td>\n",
       "      <td>MSMGAPRSLLLALAAGLAVARPPNIVLIFADDLGYGDLGCYGHPSS...</td>\n",
       "      <td>54</td>\n",
       "      <td>ENST00000216124.10_3</td>\n",
       "      <td>...</td>\n",
       "      <td>0.087995</td>\n",
       "      <td>0.38013</td>\n",
       "      <td>0.39925</td>\n",
       "      <td>0.000000</td>\n",
       "      <td>0.40597</td>\n",
       "      <td>NaN</td>\n",
       "      <td>3502.02917</td>\n",
       "      <td>80.66</td>\n",
       "      <td>89.60</td>\n",
       "      <td>90.44</td>\n",
       "    </tr>\n",
       "  </tbody>\n",
       "</table>\n",
       "<p>4847 rows × 30 columns</p>\n",
       "</div>"
      ],
      "text/plain": [
       "                      varType  hg19_chr  hg19_pos(1-based) ref       alt  \\\n",
       "0     frameshift substitution         1             976074   G        GC   \n",
       "1                    stopgain         1             979491   G         T   \n",
       "2                    stopgain         1             983248   C         T   \n",
       "3     frameshift substitution         1             983612   G  GGCCCCCC   \n",
       "4           nonsynonymous SNV         1            1167659   A         G   \n",
       "...                       ...       ...                ...  ..       ...   \n",
       "4842        nonsynonymous SNV        22           51065458   C         G   \n",
       "4843        nonsynonymous SNV        22           51065721   A         G   \n",
       "4844        nonsynonymous SNV        22           51065766   G         A   \n",
       "4845        nonsynonymous SNV        22           51065796   C         T   \n",
       "4846        nonsynonymous SNV        22           51066048   G         C   \n",
       "\n",
       "     genotype                                        WildtypeSeq  \\\n",
       "0         het  MAGRSHPGPLRPLLPLLVVAACVLPGAGGTCPERALERREEEANVV...   \n",
       "1         het  MAGRSHPGPLRPLLPLLVVAACVLPGAGGTCPERALERREEEANVV...   \n",
       "2         het  MAGRSHPGPLRPLLPLLVVAACVLPGAGGTCPERALERREEEANVV...   \n",
       "3         het  MAGRSHPGPLRPLLPLLVVAACVLPGAGGTCPERALERREEEANVV...   \n",
       "4         het  MKLLRRAWRRRAALGLGTLALCGAALLYLARCAAEPGDPRAMSGRS...   \n",
       "...       ...                                                ...   \n",
       "4842      het  MSMGAPRSLLLALAAGLAVARPPNIVLIFADDLGYGDLGCYGHPSS...   \n",
       "4843      het  MSMGAPRSLLLALAAGLAVARPPNIVLIFADDLGYGDLGCYGHPSS...   \n",
       "4844      het  MSMGAPRSLLLALAAGLAVARPPNIVLIFADDLGYGDLGCYGHPSS...   \n",
       "4845      het  MSMGAPRSLLLALAAGLAVARPPNIVLIFADDLGYGDLGCYGHPSS...   \n",
       "4846      het  MSMGAPRSLLLALAAGLAVARPPNIVLIFADDLGYGDLGCYGHPSS...   \n",
       "\n",
       "                                                 AltSeq  ChangePos  \\\n",
       "0     MAGRSHPGPLRPLLPLLVVAACVLPGAGGTCPERALERREEEANVV...        182   \n",
       "1     MAGRSHPGPLRPLLPLLVVAACVLPGAGGTCPERALERREEEANVV...        668   \n",
       "2     MAGRSHPGPLRPLLPLLVVAACVLPGAGGTCPERALERREEEANVV...       1242   \n",
       "3     MAGRSHPGPLRPLLPLLVVAACVLPGAGGTCPERALERREEEANVV...       1327   \n",
       "4     VKLLRRAWRRRAALGLGTLALCGAALLYLARCAAEPGDPRAMSGRS...          1   \n",
       "...                                                 ...        ...   \n",
       "4842  MSMGAPRSLLLALAAGLAVARPPNIVLIFADDLGYGDLGCYGHPSS...        163   \n",
       "4843  MSMGAPRSLLLALAAGLAVARPPNIVLIFADDLGYGDLGCYGHPSS...        113   \n",
       "4844  MSMGAPRSLLLALAAGLAVARPPNIVLIFADDLGYGDLGCYGHPSS...         98   \n",
       "4845  MSMGAPRSLLLALAAGLAVARPPNIVLIFADDLGYGDLGCYGHPSS...         88   \n",
       "4846  MSMGAPRSLLLALAAGLAVARPPNIVLIFADDLGYGDLGCYGHPSS...         54   \n",
       "\n",
       "              TranscriptID  ...      pRec    mis_z    lof_z        CCR  \\\n",
       "0      ENST00000379370.7_2  ...  1.000000  0.22552  6.01430  13.523968   \n",
       "1      ENST00000379370.7_2  ...  1.000000  0.22552  6.01430   0.000000   \n",
       "2      ENST00000379370.7_2  ...  1.000000  0.22552  6.01430  13.132544   \n",
       "3      ENST00000379370.7_2  ...  1.000000  0.22552  6.01430   0.000000   \n",
       "4      ENST00000379198.5_4  ...  0.779350  1.26080  0.93213        NaN   \n",
       "...                    ...  ...       ...      ...      ...        ...   \n",
       "4842  ENST00000216124.10_3  ...  0.087995  0.38013  0.39925  26.399607   \n",
       "4843  ENST00000216124.10_3  ...  0.087995  0.38013  0.39925   0.000000   \n",
       "4844  ENST00000216124.10_3  ...  0.087995  0.38013  0.39925   0.000000   \n",
       "4845  ENST00000216124.10_3  ...  0.087995  0.38013  0.39925  49.347366   \n",
       "4846  ENST00000216124.10_3  ...  0.087995  0.38013  0.39925   0.000000   \n",
       "\n",
       "         pext  gerp         GDI  RVIS_ExAC_0.1  RVIS_ExAC_0.05  RVIS_ExAC_0.01  \n",
       "0     0.48112  3.60  1338.60140          93.93           85.02           97.10  \n",
       "1     0.48112  4.60  1338.60140          93.93           85.02           97.10  \n",
       "2     0.48112  3.10  1338.60140          93.93           85.02           97.10  \n",
       "3     0.48112  2.66  1338.60140          93.93           85.02           97.10  \n",
       "4     1.00000  2.56   720.15343            NaN             NaN             NaN  \n",
       "...       ...   ...         ...            ...             ...             ...  \n",
       "4842  0.53845  5.21  3502.02917          80.66           89.60           90.44  \n",
       "4843  0.53845  4.74  3502.02917          80.66           89.60           90.44  \n",
       "4844  0.53845  4.96  3502.02917          80.66           89.60           90.44  \n",
       "4845  0.53845  4.99  3502.02917          80.66           89.60           90.44  \n",
       "4846  0.40597   NaN  3502.02917          80.66           89.60           90.44  \n",
       "\n",
       "[4847 rows x 30 columns]"
      ]
     },
     "execution_count": 5,
     "metadata": {},
     "output_type": "execute_result"
    }
   ],
   "source": [
    "rec2021"
   ]
  },
  {
   "cell_type": "markdown",
   "metadata": {},
   "source": [
    "# Parse clinvar variants 2017 - 2020\n"
   ]
  },
  {
   "cell_type": "code",
   "execution_count": 1,
   "metadata": {},
   "outputs": [
    {
     "data": {
      "text/html": [
       "<div>\n",
       "<style scoped>\n",
       "    .dataframe tbody tr th:only-of-type {\n",
       "        vertical-align: middle;\n",
       "    }\n",
       "\n",
       "    .dataframe tbody tr th {\n",
       "        vertical-align: top;\n",
       "    }\n",
       "\n",
       "    .dataframe thead th {\n",
       "        text-align: right;\n",
       "    }\n",
       "</style>\n",
       "<table border=\"1\" class=\"dataframe\">\n",
       "  <thead>\n",
       "    <tr style=\"text-align: right;\">\n",
       "      <th></th>\n",
       "      <th>geneMIM</th>\n",
       "      <th>phenoMIM</th>\n",
       "      <th>inheritance</th>\n",
       "      <th>mappingMethod</th>\n",
       "      <th>Approved Gene Symbol</th>\n",
       "    </tr>\n",
       "  </thead>\n",
       "  <tbody>\n",
       "    <tr>\n",
       "      <th>0</th>\n",
       "      <td>147571</td>\n",
       "      <td>616126</td>\n",
       "      <td>Autosomal recessive</td>\n",
       "      <td>3</td>\n",
       "      <td>ISG15</td>\n",
       "    </tr>\n",
       "    <tr>\n",
       "      <th>1</th>\n",
       "      <td>103320</td>\n",
       "      <td>615120</td>\n",
       "      <td>Autosomal recessive</td>\n",
       "      <td>3</td>\n",
       "      <td>AGRN</td>\n",
       "    </tr>\n",
       "    <tr>\n",
       "      <th>2</th>\n",
       "      <td>615291</td>\n",
       "      <td>615349</td>\n",
       "      <td>Autosomal recessive</td>\n",
       "      <td>3</td>\n",
       "      <td>B3GALT6</td>\n",
       "    </tr>\n",
       "    <tr>\n",
       "      <th>3</th>\n",
       "      <td>615291</td>\n",
       "      <td>271640</td>\n",
       "      <td>Autosomal recessive</td>\n",
       "      <td>3</td>\n",
       "      <td>B3GALT6</td>\n",
       "    </tr>\n",
       "    <tr>\n",
       "      <th>4</th>\n",
       "      <td>615291</td>\n",
       "      <td>609465</td>\n",
       "      <td>Autosomal recessive</td>\n",
       "      <td>3</td>\n",
       "      <td>B3GALT6</td>\n",
       "    </tr>\n",
       "    <tr>\n",
       "      <th>...</th>\n",
       "      <td>...</td>\n",
       "      <td>...</td>\n",
       "      <td>...</td>\n",
       "      <td>...</td>\n",
       "      <td>...</td>\n",
       "    </tr>\n",
       "    <tr>\n",
       "      <th>4939</th>\n",
       "      <td>604272</td>\n",
       "      <td>604377</td>\n",
       "      <td>Autosomal recessive</td>\n",
       "      <td>3</td>\n",
       "      <td>SCO2</td>\n",
       "    </tr>\n",
       "    <tr>\n",
       "      <th>4940</th>\n",
       "      <td>131222</td>\n",
       "      <td>603041</td>\n",
       "      <td>Autosomal recessive</td>\n",
       "      <td>3</td>\n",
       "      <td>TYMP</td>\n",
       "    </tr>\n",
       "    <tr>\n",
       "      <th>4941</th>\n",
       "      <td>612395</td>\n",
       "      <td>602541</td>\n",
       "      <td>Autosomal recessive</td>\n",
       "      <td>3</td>\n",
       "      <td>CHKB</td>\n",
       "    </tr>\n",
       "    <tr>\n",
       "      <th>4942</th>\n",
       "      <td>607574</td>\n",
       "      <td>250100</td>\n",
       "      <td>Autosomal recessive</td>\n",
       "      <td>3</td>\n",
       "      <td>ARSA</td>\n",
       "    </tr>\n",
       "    <tr>\n",
       "      <th>4943</th>\n",
       "      <td>606230</td>\n",
       "      <td>606232</td>\n",
       "      <td>Autosomal dominant</td>\n",
       "      <td>3</td>\n",
       "      <td>SHANK3</td>\n",
       "    </tr>\n",
       "  </tbody>\n",
       "</table>\n",
       "<p>4814 rows × 5 columns</p>\n",
       "</div>"
      ],
      "text/plain": [
       "      geneMIM phenoMIM          inheritance  mappingMethod  \\\n",
       "0      147571   616126  Autosomal recessive              3   \n",
       "1      103320   615120  Autosomal recessive              3   \n",
       "2      615291   615349  Autosomal recessive              3   \n",
       "3      615291   271640  Autosomal recessive              3   \n",
       "4      615291   609465  Autosomal recessive              3   \n",
       "...       ...      ...                  ...            ...   \n",
       "4939   604272   604377  Autosomal recessive              3   \n",
       "4940   131222   603041  Autosomal recessive              3   \n",
       "4941   612395   602541  Autosomal recessive              3   \n",
       "4942   607574   250100  Autosomal recessive              3   \n",
       "4943   606230   606232   Autosomal dominant              3   \n",
       "\n",
       "     Approved Gene Symbol  \n",
       "0                   ISG15  \n",
       "1                    AGRN  \n",
       "2                 B3GALT6  \n",
       "3                 B3GALT6  \n",
       "4                 B3GALT6  \n",
       "...                   ...  \n",
       "4939                 SCO2  \n",
       "4940                 TYMP  \n",
       "4941                 CHKB  \n",
       "4942                 ARSA  \n",
       "4943               SHANK3  \n",
       "\n",
       "[4814 rows x 5 columns]"
      ]
     },
     "execution_count": 1,
     "metadata": {},
     "output_type": "execute_result"
    }
   ],
   "source": [
    "# ClinVar's variant summary archive files had some slightly different formatting pre-2021, so these files are handled separately from the more recent years.\n",
    "import pandas\n",
    "inheritanceMap=pandas.read_csv('OMIM/geneToPhenoToInheritanceMap_filtered.txt',sep='\\t',low_memory=False)\n",
    "inheritanceMap=inheritanceMap.drop_duplicates(subset=['geneMIM','phenoMIM','inheritance'],keep='first')\n",
    "inheritanceMap"
   ]
  },
  {
   "cell_type": "markdown",
   "metadata": {},
   "source": [
    "## 2017"
   ]
  },
  {
   "cell_type": "code",
   "execution_count": 2,
   "metadata": {},
   "outputs": [
    {
     "data": {
      "text/plain": [
       "single nucleotide variant    428673\n",
       "deletion                      40105\n",
       "copy number gain              21793\n",
       "copy number loss              20317\n",
       "duplication                   16029\n",
       "insertion                      4159\n",
       "indel                          3367\n",
       "undetermined variant            552\n",
       "NT expansion                    403\n",
       "Translocation                   254\n",
       "protein only                     96\n",
       "inversion                        52\n",
       "complex                          38\n",
       "short repeat                     12\n",
       "fusion                            4\n",
       "Name: Type, dtype: int64"
      ]
     },
     "execution_count": 2,
     "metadata": {},
     "output_type": "execute_result"
    }
   ],
   "source": [
    "clinvar=pandas.read_csv('clinvar/variant_summary_2017-01.txt.gz',sep='\\t',low_memory=False,compression='gzip')\n",
    "clinvar.loc[:,'Type'].value_counts()"
   ]
  },
  {
   "cell_type": "code",
   "execution_count": 3,
   "metadata": {},
   "outputs": [],
   "source": [
    "clinvar=clinvar.rename(columns={'#AlleleID':'AlleleID'})\n",
    "clinvar=clinvar.loc[clinvar['Assembly']==\"GRCh37\",:]\n",
    "clinvar=clinvar.loc[((clinvar['Type']==\"single nucleotide variant\") | (clinvar['Type']==\"deletion\") | (clinvar['Type']==\"duplication\") | (clinvar['Type']==\"insertion\") | (clinvar['Type']==\"indel\") | (clinvar['Type']==\"short repeat\")),:]\n",
    "clinvar=clinvar.loc[((clinvar['ClinicalSignificance']==\"Pathogenic\") | (clinvar['ClinicalSignificance']==\"Likely pathogenic\") | (clinvar['ClinicalSignificance']==\"Likely pathogenic;Pathogenic\")\n",
    "                     | (clinvar['ClinicalSignificance']=='Pathogenic;not provided') | (clinvar['ClinicalSignificance']=='Likely pathogenic;not provided')),:]\n",
    "clinvar=clinvar.loc[~(clinvar['OriginSimple']==\"somatic\"),:]\n",
    "clinvar=clinvar.dropna(subset='PhenotypeIDS')\n",
    "clinvar=clinvar.loc[clinvar['PhenotypeIDS'].str.contains(\"OMIM:\"),:]"
   ]
  },
  {
   "cell_type": "code",
   "execution_count": 4,
   "metadata": {},
   "outputs": [],
   "source": [
    "# get the relationships between clinvar allele IDs and omim phenotype ids \n",
    "clinvarOmimPheno=pandas.DataFrame(clinvar['PhenotypeIDS'].str.split(';').tolist(), index=clinvar['AlleleID'].values).stack()\n",
    "clinvarOmimPheno=clinvarOmimPheno[clinvarOmimPheno.str.contains(\"OMIM:\")]\n",
    "clinvarAlleleIDs=clinvarOmimPheno.index.get_level_values(0)\n",
    "clinvarAlleleOmimIDs=clinvarOmimPheno.str.split(\"OMIM:\").str[1].str.split(\",\").str[0].str.strip()\n",
    "clinvarAllelesToOmimIDs=pandas.DataFrame({'clinvarAlleleID':clinvarAlleleIDs,'phenoMIM':clinvarAlleleOmimIDs.values})"
   ]
  },
  {
   "cell_type": "code",
   "execution_count": 5,
   "metadata": {},
   "outputs": [
    {
     "data": {
      "text/plain": [
       "no assertion criteria provided                          15723\n",
       "criteria provided, single submitter                      6726\n",
       "criteria provided, multiple submitters, no conflicts     1500\n",
       "reviewed by expert panel                                  241\n",
       "practice guideline                                         11\n",
       "no assertion for the individual variant                     1\n",
       "Name: ReviewStatus, dtype: int64"
      ]
     },
     "execution_count": 5,
     "metadata": {},
     "output_type": "execute_result"
    }
   ],
   "source": [
    "# select down to just the allele IDs for which we have at least one inheritance pattern in omim\n",
    "clinvarAllelesWithInheritance=clinvarAllelesToOmimIDs.merge(inheritanceMap,how='inner',on='phenoMIM')\n",
    "# select down to just the variants without conflicts in the inheritance\n",
    "clinvarAllelesWithInheritance2=clinvarAllelesWithInheritance.drop_duplicates(subset=['clinvarAlleleID','inheritance'],keep='first')\n",
    "clinvarAllelesWithInheritance3=clinvarAllelesWithInheritance2.drop_duplicates(subset='clinvarAlleleID',keep=False)\n",
    "# get the original data on the alleles with omim inheritance\n",
    "clinvar2=clinvar.merge(clinvarAllelesWithInheritance3,how='inner',left_on=['AlleleID'],right_on=['clinvarAlleleID'])\n",
    "clinvar2.loc[:,'ReviewStatus'].value_counts()"
   ]
  },
  {
   "cell_type": "code",
   "execution_count": 6,
   "metadata": {},
   "outputs": [
    {
     "data": {
      "text/plain": [
       "4659"
      ]
     },
     "execution_count": 6,
     "metadata": {},
     "output_type": "execute_result"
    }
   ],
   "source": [
    "clinvar3=clinvar2.loc[~(clinvar2['ReviewStatus']==\"no assertion criteria provided\"),:]\n",
    "clinvar3=clinvar3.loc[~(clinvar3['ReviewStatus']==\"no assertion for the individual variant\"),:]\n",
    "len(clinvar3.loc[clinvar3['inheritance']=='Autosomal recessive',:]) # this is the number of recessive variants we have now (but this includes coding and noncoding)"
   ]
  },
  {
   "cell_type": "code",
   "execution_count": 7,
   "metadata": {},
   "outputs": [
    {
     "data": {
      "text/plain": [
       "3819"
      ]
     },
     "execution_count": 7,
     "metadata": {},
     "output_type": "execute_result"
    }
   ],
   "source": [
    "len(clinvar3.loc[clinvar3['inheritance']=='Autosomal dominant',:]) # this is the number of dominant variants we have now (but this includes coding and noncoding)"
   ]
  },
  {
   "cell_type": "code",
   "execution_count": 8,
   "metadata": {},
   "outputs": [],
   "source": [
    "clinvar3AR=clinvar3.loc[clinvar3['inheritance']=='Autosomal recessive',['Chromosome','Start','ReferenceAllele','AlternateAllele']]\n",
    "clinvar3AD=clinvar3.loc[clinvar3['inheritance']=='Autosomal dominant',['Chromosome','Start','ReferenceAllele','AlternateAllele']]\n",
    "clinvar3AR=clinvar3AR.rename(columns={'Start':'Position'}).sort_values(by=['Chromosome','Position','ReferenceAllele','AlternateAllele'])\n",
    "clinvar3AD=clinvar3AD.rename(columns={'Start':'Position'}).sort_values(by=['Chromosome','Position','ReferenceAllele','AlternateAllele'])\n",
    "clinvar3AR=clinvar3AR.dropna()\n",
    "clinvar3AD=clinvar3AD.dropna()\n",
    "clinvar3AR=clinvar3AR.loc[clinvar3AR['Position']!=-1,:]\n",
    "clinvar3AD=clinvar3AD.loc[clinvar3AD['Position']!=-1,:]\n",
    "clinvar3AR.to_csv('clinvar/clinvar_201701_oneToFourStarPathogenicVariants_autosomalRecessive_locations.txt',sep='\\t',index=False)\n",
    "clinvar3AD.to_csv('clinvar/clinvar_201701_oneToFourStarPathogenicVariants_autosomalDominant_locations.txt',sep='\\t',index=False)\n"
   ]
  },
  {
   "cell_type": "markdown",
   "metadata": {},
   "source": [
    "## 2018"
   ]
  },
  {
   "cell_type": "code",
   "execution_count": 33,
   "metadata": {},
   "outputs": [
    {
     "data": {
      "text/plain": [
       "single nucleotide variant    604440\n",
       "deletion                      55105\n",
       "copy number gain              27995\n",
       "copy number loss              24529\n",
       "duplication                   21396\n",
       "insertion                      5638\n",
       "indel                          5323\n",
       "NT expansion                    408\n",
       "undetermined variant            404\n",
       "inversion                       217\n",
       "Translocation                   200\n",
       "protein only                     99\n",
       "complex                          51\n",
       "short repeat                     25\n",
       "fusion                            4\n",
       "Name: Type, dtype: int64"
      ]
     },
     "execution_count": 33,
     "metadata": {},
     "output_type": "execute_result"
    }
   ],
   "source": [
    "clinvar=pandas.read_csv('clinvar/variant_summary_2018-01.txt.gz',sep='\\t',low_memory=False,compression='gzip')\n",
    "clinvar.loc[:,'Type'].value_counts()"
   ]
  },
  {
   "cell_type": "code",
   "execution_count": 36,
   "metadata": {},
   "outputs": [],
   "source": [
    "clinvar=clinvar.rename(columns={'#AlleleID':'AlleleID'})\n",
    "clinvar=clinvar.loc[clinvar['Assembly']==\"GRCh37\",:]\n",
    "clinvar=clinvar.loc[((clinvar['Type']==\"single nucleotide variant\") | (clinvar['Type']==\"deletion\") | (clinvar['Type']==\"duplication\") | (clinvar['Type']==\"insertion\") | (clinvar['Type']==\"indel\") | (clinvar['Type']==\"short repeat\")),:]\n",
    "clinvar=clinvar.loc[((clinvar['ClinicalSignificance']==\"Pathogenic\") | (clinvar['ClinicalSignificance']==\"Likely pathogenic\") | (clinvar['ClinicalSignificance']==\"Pathogenic/Likely pathogenic\")),:]\n",
    "clinvar=clinvar.loc[~(clinvar['OriginSimple']==\"somatic\"),:]\n",
    "clinvar=clinvar.dropna(subset='PhenotypeIDS')\n",
    "clinvar=clinvar.loc[clinvar['PhenotypeIDS'].str.contains(\"OMIM:\"),:]"
   ]
  },
  {
   "cell_type": "code",
   "execution_count": 37,
   "metadata": {},
   "outputs": [],
   "source": [
    "# get the relationships between clinvar allele IDs and omim phenotype ids \n",
    "clinvarOmimPheno=pandas.DataFrame(clinvar['PhenotypeIDS'].str.split(';').tolist(), index=clinvar['AlleleID'].values).stack()\n",
    "clinvarOmimPheno=clinvarOmimPheno[clinvarOmimPheno.str.contains(\"OMIM:\")]\n",
    "clinvarAlleleIDs=clinvarOmimPheno.index.get_level_values(0)\n",
    "clinvarAlleleOmimIDs=clinvarOmimPheno.str.split(\"OMIM:\").str[1].str.split(\",\").str[0].str.strip()\n",
    "clinvarAllelesToOmimIDs=pandas.DataFrame({'clinvarAlleleID':clinvarAlleleIDs,'phenoMIM':clinvarAlleleOmimIDs.values})"
   ]
  },
  {
   "cell_type": "code",
   "execution_count": 38,
   "metadata": {},
   "outputs": [
    {
     "data": {
      "text/plain": [
       "no assertion criteria provided                          16821\n",
       "criteria provided, single submitter                     11219\n",
       "criteria provided, multiple submitters, no conflicts     3428\n",
       "reviewed by expert panel                                  319\n",
       "no assertion for the individual variant                    32\n",
       "practice guideline                                         11\n",
       "Name: ReviewStatus, dtype: int64"
      ]
     },
     "execution_count": 38,
     "metadata": {},
     "output_type": "execute_result"
    }
   ],
   "source": [
    "# select down to just the allele IDs for which we have at least one inheritance pattern in omim\n",
    "clinvarAllelesWithInheritance=clinvarAllelesToOmimIDs.merge(inheritanceMap,how='inner',on='phenoMIM')\n",
    "# select down to just the variants without conflicts in the inheritance\n",
    "clinvarAllelesWithInheritance2=clinvarAllelesWithInheritance.drop_duplicates(subset=['clinvarAlleleID','inheritance'],keep='first')\n",
    "clinvarAllelesWithInheritance3=clinvarAllelesWithInheritance2.drop_duplicates(subset='clinvarAlleleID',keep=False)\n",
    "# get the original data on the alleles with omim inheritance\n",
    "clinvar2=clinvar.merge(clinvarAllelesWithInheritance3,how='inner',left_on=['AlleleID'],right_on=['clinvarAlleleID'])\n",
    "clinvar2.loc[:,'ReviewStatus'].value_counts()"
   ]
  },
  {
   "cell_type": "code",
   "execution_count": 39,
   "metadata": {},
   "outputs": [
    {
     "data": {
      "text/plain": [
       "8441"
      ]
     },
     "execution_count": 39,
     "metadata": {},
     "output_type": "execute_result"
    }
   ],
   "source": [
    "clinvar3=clinvar2.loc[~(clinvar2['ReviewStatus']==\"no assertion criteria provided\"),:]\n",
    "clinvar3=clinvar3.loc[~(clinvar3['ReviewStatus']==\"no assertion for the individual variant\"),:]\n",
    "len(clinvar3.loc[clinvar3['inheritance']=='Autosomal recessive',:]) # this is the number of recessive variants we have now (but this includes coding and noncoding)"
   ]
  },
  {
   "cell_type": "code",
   "execution_count": 40,
   "metadata": {},
   "outputs": [
    {
     "data": {
      "text/plain": [
       "6536"
      ]
     },
     "execution_count": 40,
     "metadata": {},
     "output_type": "execute_result"
    }
   ],
   "source": [
    "len(clinvar3.loc[clinvar3['inheritance']=='Autosomal dominant',:]) # this is the number of dominant variants we have now (but this includes coding and noncoding)"
   ]
  },
  {
   "cell_type": "code",
   "execution_count": 41,
   "metadata": {},
   "outputs": [],
   "source": [
    "clinvar3AR=clinvar3.loc[clinvar3['inheritance']=='Autosomal recessive',['Chromosome','Start','ReferenceAllele','AlternateAllele']]\n",
    "clinvar3AD=clinvar3.loc[clinvar3['inheritance']=='Autosomal dominant',['Chromosome','Start','ReferenceAllele','AlternateAllele']]\n",
    "clinvar3AR=clinvar3AR.rename(columns={'Start':'Position'}).sort_values(by=['Chromosome','Position','ReferenceAllele','AlternateAllele'])\n",
    "clinvar3AD=clinvar3AD.rename(columns={'Start':'Position'}).sort_values(by=['Chromosome','Position','ReferenceAllele','AlternateAllele'])\n",
    "clinvar3AR=clinvar3AR.dropna()\n",
    "clinvar3AD=clinvar3AD.dropna()\n",
    "clinvar3AR=clinvar3AR.loc[clinvar3AR['Position']!=-1,:]\n",
    "clinvar3AD=clinvar3AD.loc[clinvar3AD['Position']!=-1,:]\n",
    "clinvar3AR.to_csv('clinvar/clinvar_201801_oneToFourStarPathogenicVariants_autosomalRecessive_locations.txt',sep='\\t',index=False)\n",
    "clinvar3AD.to_csv('clinvar/clinvar_201801_oneToFourStarPathogenicVariants_autosomalDominant_locations.txt',sep='\\t',index=False)\n"
   ]
  },
  {
   "cell_type": "markdown",
   "metadata": {},
   "source": [
    "## 2019"
   ]
  },
  {
   "cell_type": "code",
   "execution_count": 42,
   "metadata": {},
   "outputs": [
    {
     "data": {
      "text/plain": [
       "single nucleotide variant    776360\n",
       "deletion                      74369\n",
       "copy number gain              29573\n",
       "duplication                   29087\n",
       "copy number loss              26180\n",
       "insertion                      7506\n",
       "indel                          7456\n",
       "NT expansion                    407\n",
       "undetermined variant            401\n",
       "inversion                       292\n",
       "Translocation                   283\n",
       "protein only                     98\n",
       "complex                          56\n",
       "short repeat                     41\n",
       "fusion                            4\n",
       "Name: Type, dtype: int64"
      ]
     },
     "execution_count": 42,
     "metadata": {},
     "output_type": "execute_result"
    }
   ],
   "source": [
    "clinvar=pandas.read_csv('clinvar/variant_summary_2019-01.txt.gz',sep='\\t',low_memory=False,compression='gzip')\n",
    "clinvar.loc[:,'Type'].value_counts()"
   ]
  },
  {
   "cell_type": "code",
   "execution_count": 43,
   "metadata": {},
   "outputs": [],
   "source": [
    "clinvar=clinvar.rename(columns={'#AlleleID':'AlleleID'})\n",
    "clinvar=clinvar.loc[clinvar['Assembly']==\"GRCh37\",:]\n",
    "clinvar=clinvar.loc[((clinvar['Type']==\"single nucleotide variant\") | (clinvar['Type']==\"deletion\") | (clinvar['Type']==\"duplication\") | (clinvar['Type']==\"insertion\") | (clinvar['Type']==\"indel\") | (clinvar['Type']==\"short repeat\")),:]\n",
    "clinvar=clinvar.loc[((clinvar['ClinicalSignificance']==\"Pathogenic\") | (clinvar['ClinicalSignificance']==\"Likely pathogenic\") | (clinvar['ClinicalSignificance']==\"Pathogenic/Likely pathogenic\")),:]\n",
    "clinvar=clinvar.loc[~(clinvar['OriginSimple']==\"somatic\"),:]\n",
    "clinvar=clinvar.dropna(subset='PhenotypeIDS')\n",
    "clinvar=clinvar.loc[clinvar['PhenotypeIDS'].str.contains(\"OMIM:\"),:]"
   ]
  },
  {
   "cell_type": "code",
   "execution_count": 44,
   "metadata": {},
   "outputs": [],
   "source": [
    "# get the relationships between clinvar allele IDs and omim phenotype ids \n",
    "clinvarOmimPheno=pandas.DataFrame(clinvar['PhenotypeIDS'].str.split(';').tolist(), index=clinvar['AlleleID'].values).stack()\n",
    "clinvarOmimPheno=clinvarOmimPheno[clinvarOmimPheno.str.contains(\"OMIM:\")]\n",
    "clinvarAlleleIDs=clinvarOmimPheno.index.get_level_values(0)\n",
    "clinvarAlleleOmimIDs=clinvarOmimPheno.str.split(\"OMIM:\").str[1].str.split(\",\").str[0].str.strip()\n",
    "clinvarAllelesToOmimIDs=pandas.DataFrame({'clinvarAlleleID':clinvarAlleleIDs,'phenoMIM':clinvarAlleleOmimIDs.values})"
   ]
  },
  {
   "cell_type": "code",
   "execution_count": 45,
   "metadata": {},
   "outputs": [
    {
     "data": {
      "text/plain": [
       "criteria provided, single submitter                     18637\n",
       "no assertion criteria provided                          17311\n",
       "criteria provided, multiple submitters, no conflicts     6006\n",
       "reviewed by expert panel                                  524\n",
       "no interpretation for the single variant                   25\n",
       "practice guideline                                         14\n",
       "Name: ReviewStatus, dtype: int64"
      ]
     },
     "execution_count": 45,
     "metadata": {},
     "output_type": "execute_result"
    }
   ],
   "source": [
    "# select down to just the allele IDs for which we have at least one inheritance pattern in omim\n",
    "clinvarAllelesWithInheritance=clinvarAllelesToOmimIDs.merge(inheritanceMap,how='inner',on='phenoMIM')\n",
    "# select down to just the variants without conflicts in the inheritance\n",
    "clinvarAllelesWithInheritance2=clinvarAllelesWithInheritance.drop_duplicates(subset=['clinvarAlleleID','inheritance'],keep='first')\n",
    "clinvarAllelesWithInheritance3=clinvarAllelesWithInheritance2.drop_duplicates(subset='clinvarAlleleID',keep=False)\n",
    "# get the original data on the alleles with omim inheritance\n",
    "clinvar2=clinvar.merge(clinvarAllelesWithInheritance3,how='inner',left_on=['AlleleID'],right_on=['clinvarAlleleID'])\n",
    "clinvar2.loc[:,'ReviewStatus'].value_counts()"
   ]
  },
  {
   "cell_type": "code",
   "execution_count": 46,
   "metadata": {},
   "outputs": [
    {
     "data": {
      "text/plain": [
       "15330"
      ]
     },
     "execution_count": 46,
     "metadata": {},
     "output_type": "execute_result"
    }
   ],
   "source": [
    "clinvar3=clinvar2.loc[~(clinvar2['ReviewStatus']==\"no assertion criteria provided\"),:]\n",
    "clinvar3=clinvar3.loc[~(clinvar3['ReviewStatus']==\"no assertion for the individual variant\"),:]\n",
    "len(clinvar3.loc[clinvar3['inheritance']=='Autosomal recessive',:]) # this is the number of recessive variants we have now (but this includes coding and noncoding)"
   ]
  },
  {
   "cell_type": "code",
   "execution_count": 47,
   "metadata": {},
   "outputs": [
    {
     "data": {
      "text/plain": [
       "9876"
      ]
     },
     "execution_count": 47,
     "metadata": {},
     "output_type": "execute_result"
    }
   ],
   "source": [
    "len(clinvar3.loc[clinvar3['inheritance']=='Autosomal dominant',:]) # this is the number of dominant variants we have now (but this includes coding and noncoding)"
   ]
  },
  {
   "cell_type": "code",
   "execution_count": 48,
   "metadata": {},
   "outputs": [],
   "source": [
    "clinvar3AR=clinvar3.loc[clinvar3['inheritance']=='Autosomal recessive',['Chromosome','Start','ReferenceAllele','AlternateAllele']]\n",
    "clinvar3AD=clinvar3.loc[clinvar3['inheritance']=='Autosomal dominant',['Chromosome','Start','ReferenceAllele','AlternateAllele']]\n",
    "clinvar3AR=clinvar3AR.rename(columns={'Start':'Position'}).sort_values(by=['Chromosome','Position','ReferenceAllele','AlternateAllele'])\n",
    "clinvar3AD=clinvar3AD.rename(columns={'Start':'Position'}).sort_values(by=['Chromosome','Position','ReferenceAllele','AlternateAllele'])\n",
    "clinvar3AR=clinvar3AR.dropna()\n",
    "clinvar3AD=clinvar3AD.dropna()\n",
    "clinvar3AR=clinvar3AR.loc[clinvar3AR['Position']!=-1,:]\n",
    "clinvar3AD=clinvar3AD.loc[clinvar3AD['Position']!=-1,:]\n",
    "clinvar3AR.to_csv('clinvar/clinvar_201901_oneToFourStarPathogenicVariants_autosomalRecessive_locations.txt',sep='\\t',index=False)\n",
    "clinvar3AD.to_csv('clinvar/clinvar_201901_oneToFourStarPathogenicVariants_autosomalDominant_locations.txt',sep='\\t',index=False)\n"
   ]
  },
  {
   "cell_type": "markdown",
   "metadata": {},
   "source": [
    "## 2020"
   ]
  },
  {
   "cell_type": "code",
   "execution_count": 49,
   "metadata": {},
   "outputs": [
    {
     "data": {
      "text/plain": [
       "single nucleotide variant    1097964\n",
       "deletion                       74859\n",
       "copy number gain               39397\n",
       "copy number loss               39089\n",
       "duplication                    33118\n",
       "short repeat                   18188\n",
       "indel                           8391\n",
       "insertion                       6804\n",
       "undetermined variant             824\n",
       "inversion                        580\n",
       "Translocation                    298\n",
       "NT expansion                     133\n",
       "protein only                     103\n",
       "complex                           60\n",
       "fusion                             6\n",
       "tandem duplication                 1\n",
       "Name: Type, dtype: int64"
      ]
     },
     "execution_count": 49,
     "metadata": {},
     "output_type": "execute_result"
    }
   ],
   "source": [
    "clinvar=pandas.read_csv('clinvar/variant_summary_2020-01.txt.gz',sep='\\t',low_memory=False,compression='gzip')\n",
    "clinvar.loc[:,'Type'].value_counts()"
   ]
  },
  {
   "cell_type": "code",
   "execution_count": 50,
   "metadata": {},
   "outputs": [],
   "source": [
    "clinvar=clinvar.rename(columns={'#AlleleID':'AlleleID'})\n",
    "clinvar=clinvar.loc[clinvar['Assembly']==\"GRCh37\",:]\n",
    "clinvar=clinvar.loc[((clinvar['Type']==\"single nucleotide variant\") | (clinvar['Type']==\"deletion\") | (clinvar['Type']==\"duplication\") | (clinvar['Type']==\"insertion\") | (clinvar['Type']==\"indel\") | (clinvar['Type']==\"short repeat\")),:]\n",
    "clinvar=clinvar.loc[((clinvar['ClinicalSignificance']==\"Pathogenic\") | (clinvar['ClinicalSignificance']==\"Likely pathogenic\") | (clinvar['ClinicalSignificance']==\"Pathogenic/Likely pathogenic\")),:]\n",
    "clinvar=clinvar.loc[~(clinvar['OriginSimple']==\"somatic\"),:]\n",
    "clinvar=clinvar.dropna(subset='PhenotypeIDS')\n",
    "clinvar=clinvar.loc[clinvar['PhenotypeIDS'].str.contains(\"OMIM:\"),:]"
   ]
  },
  {
   "cell_type": "code",
   "execution_count": 51,
   "metadata": {},
   "outputs": [],
   "source": [
    "# get the relationships between clinvar allele IDs and omim phenotype ids \n",
    "clinvarOmimPheno=pandas.DataFrame(clinvar['PhenotypeIDS'].str.split(';').tolist(), index=clinvar['AlleleID'].values).stack()\n",
    "clinvarOmimPheno=clinvarOmimPheno[clinvarOmimPheno.str.contains(\"OMIM:\")]\n",
    "clinvarAlleleIDs=clinvarOmimPheno.index.get_level_values(0)\n",
    "clinvarAlleleOmimIDs=clinvarOmimPheno.str.split(\"OMIM:\").str[1].str.split(\",\").str[0].str.strip()\n",
    "clinvarAllelesToOmimIDs=pandas.DataFrame({'clinvarAlleleID':clinvarAlleleIDs,'phenoMIM':clinvarAlleleOmimIDs.values})"
   ]
  },
  {
   "cell_type": "code",
   "execution_count": 52,
   "metadata": {},
   "outputs": [
    {
     "data": {
      "text/plain": [
       "criteria provided, single submitter                     21755\n",
       "no assertion criteria provided                          18849\n",
       "criteria provided, multiple submitters, no conflicts     7596\n",
       "reviewed by expert panel                                  719\n",
       "practice guideline                                         11\n",
       "Name: ReviewStatus, dtype: int64"
      ]
     },
     "execution_count": 52,
     "metadata": {},
     "output_type": "execute_result"
    }
   ],
   "source": [
    "# select down to just the allele IDs for which we have at least one inheritance pattern in omim\n",
    "clinvarAllelesWithInheritance=clinvarAllelesToOmimIDs.merge(inheritanceMap,how='inner',on='phenoMIM')\n",
    "# select down to just the variants without conflicts in the inheritance\n",
    "clinvarAllelesWithInheritance2=clinvarAllelesWithInheritance.drop_duplicates(subset=['clinvarAlleleID','inheritance'],keep='first')\n",
    "clinvarAllelesWithInheritance3=clinvarAllelesWithInheritance2.drop_duplicates(subset='clinvarAlleleID',keep=False)\n",
    "# get the original data on the alleles with omim inheritance\n",
    "clinvar2=clinvar.merge(clinvarAllelesWithInheritance3,how='inner',left_on=['AlleleID'],right_on=['clinvarAlleleID'])\n",
    "clinvar2.loc[:,'ReviewStatus'].value_counts()"
   ]
  },
  {
   "cell_type": "code",
   "execution_count": 53,
   "metadata": {},
   "outputs": [
    {
     "data": {
      "text/plain": [
       "18010"
      ]
     },
     "execution_count": 53,
     "metadata": {},
     "output_type": "execute_result"
    }
   ],
   "source": [
    "clinvar3=clinvar2.loc[~(clinvar2['ReviewStatus']==\"no assertion criteria provided\"),:]\n",
    "clinvar3=clinvar3.loc[~(clinvar3['ReviewStatus']==\"no assertion for the individual variant\"),:]\n",
    "len(clinvar3.loc[clinvar3['inheritance']=='Autosomal recessive',:]) # this is the number of recessive variants we have now (but this includes coding and noncoding)"
   ]
  },
  {
   "cell_type": "code",
   "execution_count": 54,
   "metadata": {},
   "outputs": [
    {
     "data": {
      "text/plain": [
       "12071"
      ]
     },
     "execution_count": 54,
     "metadata": {},
     "output_type": "execute_result"
    }
   ],
   "source": [
    "len(clinvar3.loc[clinvar3['inheritance']=='Autosomal dominant',:]) # this is the number of dominant variants we have now (but this includes coding and noncoding)"
   ]
  },
  {
   "cell_type": "code",
   "execution_count": 55,
   "metadata": {},
   "outputs": [],
   "source": [
    "clinvar3AR=clinvar3.loc[clinvar3['inheritance']=='Autosomal recessive',['Chromosome','Start','ReferenceAllele','AlternateAllele']]\n",
    "clinvar3AD=clinvar3.loc[clinvar3['inheritance']=='Autosomal dominant',['Chromosome','Start','ReferenceAllele','AlternateAllele']]\n",
    "clinvar3AR=clinvar3AR.rename(columns={'Start':'Position'}).sort_values(by=['Chromosome','Position','ReferenceAllele','AlternateAllele'])\n",
    "clinvar3AD=clinvar3AD.rename(columns={'Start':'Position'}).sort_values(by=['Chromosome','Position','ReferenceAllele','AlternateAllele'])\n",
    "clinvar3AR=clinvar3AR.dropna()\n",
    "clinvar3AD=clinvar3AD.dropna()\n",
    "clinvar3AR=clinvar3AR.loc[clinvar3AR['Position']!=-1,:]\n",
    "clinvar3AD=clinvar3AD.loc[clinvar3AD['Position']!=-1,:]\n",
    "clinvar3AR.to_csv('clinvar/clinvar_202001_oneToFourStarPathogenicVariants_autosomalRecessive_locations.txt',sep='\\t',index=False)\n",
    "clinvar3AD.to_csv('clinvar/clinvar_202001_oneToFourStarPathogenicVariants_autosomalDominant_locations.txt',sep='\\t',index=False)\n"
   ]
  },
  {
   "cell_type": "markdown",
   "metadata": {},
   "source": [
    "# Get New Variants For Each Year"
   ]
  },
  {
   "cell_type": "code",
   "execution_count": 1,
   "metadata": {},
   "outputs": [],
   "source": [
    "import pandas\n",
    "AD202101=pandas.read_csv('clinvar/clinvar_202101_oneToFourStarPathogenicVariants_autosomalDominant_locations.txt',sep='\\t',low_memory=False)\n",
    "AD202001=pandas.read_csv('clinvar/clinvar_202001_oneToFourStarPathogenicVariants_autosomalDominant_locations.txt',sep='\\t',low_memory=False)\n",
    "AD201901=pandas.read_csv('clinvar/clinvar_201901_oneToFourStarPathogenicVariants_autosomalDominant_locations.txt',sep='\\t',low_memory=False)\n",
    "AD201801=pandas.read_csv('clinvar/clinvar_201801_oneToFourStarPathogenicVariants_autosomalDominant_locations.txt',sep='\\t',low_memory=False)\n",
    "\n",
    "clinvar2020=pandas.read_csv('clinvar/variant_summary_2020-01.txt.gz',sep='\\t',low_memory=False,compression='gzip')\n",
    "clinvar2020=clinvar2020.loc[clinvar2020['Assembly']==\"GRCh37\",:]\n",
    "clinvar2020=clinvar2020.loc[((clinvar2020['Type']==\"single nucleotide variant\") | (clinvar2020['Type']==\"Deletion\") | (clinvar2020['Type']==\"Duplication\") | (clinvar2020['Type']==\"Microsatellite\") | (clinvar2020['Type']==\"Indel\") | (clinvar2020['Type']==\"Insertion\")),:]\n",
    "clinvar2020=clinvar2020.loc[((clinvar2020['ClinicalSignificance']==\"Pathogenic\") | (clinvar2020['ClinicalSignificance']==\"Likely pathogenic\") | (clinvar2020['ClinicalSignificance']==\"Pathogenic/Likely pathogenic\")),:]\n",
    "clinvar2020=clinvar2020.loc[~(clinvar2020['OriginSimple']==\"somatic\"),:]\n",
    "clinvar2020=clinvar2020.rename(columns={'Start':'Position'})\n",
    "\n",
    "clinvar2019=pandas.read_csv('clinvar/variant_summary_2019-01.txt.gz',sep='\\t',low_memory=False,compression='gzip')\n",
    "clinvar2019=clinvar2019.loc[clinvar2019['Assembly']==\"GRCh37\",:]\n",
    "clinvar2019=clinvar2019.loc[((clinvar2019['Type']==\"single nucleotide variant\") | (clinvar2019['Type']==\"deletion\") | (clinvar2019['Type']==\"duplication\") | (clinvar2019['Type']==\"insertion\") | (clinvar2019['Type']==\"indel\") | (clinvar2019['Type']==\"short repeat\")),:]\n",
    "clinvar2019=clinvar2019.loc[((clinvar2019['ClinicalSignificance']==\"Pathogenic\") | (clinvar2019['ClinicalSignificance']==\"Likely pathogenic\") | (clinvar2019['ClinicalSignificance']==\"Pathogenic/Likely pathogenic\")),:]\n",
    "clinvar2019=clinvar2019.loc[~(clinvar2019['OriginSimple']==\"somatic\"),:]\n",
    "clinvar2019=clinvar2019.rename(columns={'Start':'Position'})\n",
    "\n",
    "clinvar2018=pandas.read_csv('clinvar/variant_summary_2018-01.txt.gz',sep='\\t',low_memory=False,compression='gzip')\n",
    "clinvar2018=clinvar2018.loc[clinvar2018['Assembly']==\"GRCh37\",:]\n",
    "clinvar2018=clinvar2018.loc[((clinvar2018['Type']==\"single nucleotide variant\") | (clinvar2018['Type']==\"deletion\") | (clinvar2018['Type']==\"duplication\") | (clinvar2018['Type']==\"insertion\") | (clinvar2018['Type']==\"indel\") | (clinvar2018['Type']==\"short repeat\")),:]\n",
    "clinvar2018=clinvar2018.loc[((clinvar2018['ClinicalSignificance']==\"Pathogenic\") | (clinvar2018['ClinicalSignificance']==\"Likely pathogenic\") | (clinvar2018['ClinicalSignificance']==\"Pathogenic/Likely pathogenic\")),:]\n",
    "clinvar2018=clinvar2018.loc[~(clinvar2018['OriginSimple']==\"somatic\"),:]\n",
    "clinvar2018=clinvar2018.rename(columns={'Start':'Position'})\n",
    "\n",
    "clinvar2017=pandas.read_csv('clinvar/variant_summary_2017-01.txt.gz',sep='\\t',low_memory=False,compression='gzip')\n",
    "clinvar2017=clinvar2017.loc[clinvar2017['Assembly']==\"GRCh37\",:]\n",
    "clinvar2017=clinvar2017.loc[((clinvar2017['Type']==\"single nucleotide variant\") | (clinvar2017['Type']==\"deletion\") | (clinvar2017['Type']==\"duplication\") | (clinvar2017['Type']==\"insertion\") | (clinvar2017['Type']==\"indel\") | (clinvar2017['Type']==\"short repeat\")),:]\n",
    "clinvar2017=clinvar2017.loc[((clinvar2017['ClinicalSignificance']==\"Pathogenic\") | (clinvar2017['ClinicalSignificance']==\"Likely pathogenic\") | (clinvar2017['ClinicalSignificance']==\"Likely pathogenic;Pathogenic\") | (clinvar2017['ClinicalSignificance']=='Pathogenic;not provided') | (clinvar2017['ClinicalSignificance']=='Likely pathogenic;not provided')),:]\n",
    "clinvar2017=clinvar2017.loc[~(clinvar2017['OriginSimple']==\"somatic\"),:]\n",
    "clinvar2017=clinvar2017.rename(columns={'Start':'Position'})\n",
    "\n",
    "\n",
    "AD202101=AD202101.merge(clinvar2020,how='left',on=['Chromosome','Position','ReferenceAllele','AlternateAllele'],indicator=True)\n",
    "AD202101=AD202101.loc[AD202101['_merge']=='left_only',['Chromosome','Position','ReferenceAllele','AlternateAllele']].reset_index(drop=True)\n",
    "AD202101.to_csv('clinvar/clinvar_202101_oneToFourStarPathogenicVariants_autosomalDominant_locations_v2.txt',sep='\\t',index=False)\n",
    "\n",
    "AD202001=AD202001.merge(clinvar2019,how='left',on=['Chromosome','Position','ReferenceAllele','AlternateAllele'],indicator=True)\n",
    "AD202001=AD202001.loc[AD202001['_merge']=='left_only',['Chromosome','Position','ReferenceAllele','AlternateAllele']].reset_index(drop=True)\n",
    "AD202001.to_csv('clinvar/clinvar_202001_oneToFourStarPathogenicVariants_autosomalDominant_locations_v2.txt',sep='\\t',index=False)\n",
    "\n",
    "AD201901=AD201901.merge(clinvar2018,how='left',on=['Chromosome','Position','ReferenceAllele','AlternateAllele'],indicator=True)\n",
    "AD201901=AD201901.loc[AD201901['_merge']=='left_only',['Chromosome','Position','ReferenceAllele','AlternateAllele']].reset_index(drop=True)\n",
    "AD201901.to_csv('clinvar/clinvar_201901_oneToFourStarPathogenicVariants_autosomalDominant_locations_v2.txt',sep='\\t',index=False)\n",
    "\n",
    "AD201801=AD201801.merge(clinvar2017,how='left',on=['Chromosome','Position','ReferenceAllele','AlternateAllele'],indicator=True)\n",
    "AD201801=AD201801.loc[AD201801['_merge']=='left_only',['Chromosome','Position','ReferenceAllele','AlternateAllele']].reset_index(drop=True)\n",
    "AD201801.to_csv('clinvar/clinvar_201801_oneToFourStarPathogenicVariants_autosomalDominant_locations_v2.txt',sep='\\t',index=False)\n",
    "\n",
    "AR202101=pandas.read_csv('clinvar/clinvar_202101_oneToFourStarPathogenicVariants_autosomalRecessive_locations.txt',sep='\\t',low_memory=False)\n",
    "AR202001=pandas.read_csv('clinvar/clinvar_202001_oneToFourStarPathogenicVariants_autosomalRecessive_locations.txt',sep='\\t',low_memory=False)\n",
    "AR201901=pandas.read_csv('clinvar/clinvar_201901_oneToFourStarPathogenicVariants_autosomalRecessive_locations.txt',sep='\\t',low_memory=False)\n",
    "AR201801=pandas.read_csv('clinvar/clinvar_201801_oneToFourStarPathogenicVariants_autosomalRecessive_locations.txt',sep='\\t',low_memory=False)\n",
    "AR201701=pandas.read_csv('clinvar/clinvar_201701_oneToFourStarPathogenicVariants_autosomalRecessive_locations.txt',sep='\\t',low_memory=False)\n",
    "\n",
    "AR202101=AR202101.merge(clinvar2020,how='left',on=['Chromosome','Position','ReferenceAllele','AlternateAllele'],indicator=True)\n",
    "AR202101=AR202101.loc[AR202101['_merge']=='left_only',['Chromosome','Position','ReferenceAllele','AlternateAllele']].reset_index(drop=True)\n",
    "AR202101.to_csv('clinvar/clinvar_202101_oneToFourStarPathogenicVariants_autosomalRecessive_locations_v2.txt',sep='\\t',index=False)\n",
    "\n",
    "AR202001=AR202001.merge(clinvar2019,how='left',on=['Chromosome','Position','ReferenceAllele','AlternateAllele'],indicator=True)\n",
    "AR202001=AR202001.loc[AR202001['_merge']=='left_only',['Chromosome','Position','ReferenceAllele','AlternateAllele']].reset_index(drop=True)\n",
    "AR202001.to_csv('clinvar/clinvar_202001_oneToFourStarPathogenicVariants_autosomalRecessive_locations_v2.txt',sep='\\t',index=False)\n",
    "\n",
    "AR201901=AR201901.merge(clinvar2018,how='left',on=['Chromosome','Position','ReferenceAllele','AlternateAllele'],indicator=True)\n",
    "AR201901=AR201901.loc[AR201901['_merge']=='left_only',['Chromosome','Position','ReferenceAllele','AlternateAllele']].reset_index(drop=True)\n",
    "AR201901.to_csv('clinvar/clinvar_201901_oneToFourStarPathogenicVariants_autosomalRecessive_locations_v2.txt',sep='\\t',index=False)\n",
    "\n",
    "AR201801=AR201801.merge(clinvar2017,how='left',on=['Chromosome','Position','ReferenceAllele','AlternateAllele'],indicator=True)\n",
    "AR201801=AR201801.loc[AR201801['_merge']=='left_only',['Chromosome','Position','ReferenceAllele','AlternateAllele']].reset_index(drop=True)\n",
    "AR201801.to_csv('clinvar/clinvar_201801_oneToFourStarPathogenicVariants_autosomalRecessive_locations_v2.txt',sep='\\t',index=False)\n"
   ]
  },
  {
   "cell_type": "markdown",
   "metadata": {},
   "source": [
    "# END"
   ]
  },
  {
   "cell_type": "code",
   "execution_count": null,
   "metadata": {},
   "outputs": [],
   "source": []
  }
 ],
 "metadata": {
  "kernelspec": {
   "display_name": "Python 3 (ipykernel)",
   "language": "python",
   "name": "python3"
  },
  "language_info": {
   "codemirror_mode": {
    "name": "ipython",
    "version": 3
   },
   "file_extension": ".py",
   "mimetype": "text/x-python",
   "name": "python",
   "nbconvert_exporter": "python",
   "pygments_lexer": "ipython3",
   "version": "3.10.9"
  },
  "toc-autonumbering": true
 },
 "nbformat": 4,
 "nbformat_minor": 4
}
